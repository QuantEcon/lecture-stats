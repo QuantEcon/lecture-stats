{
 "cells": [
  {
   "cell_type": "code",
   "execution_count": 1,
   "id": "edb7d090",
   "metadata": {},
   "outputs": [],
   "source": [
    "%matplotlib inline\n",
    "import matplotlib.pyplot as plt\n",
    "plt.rcParams[\"figure.figsize\"] = (11, 5)  #set default figure size\n",
    "import numpy as np\n",
    "from numba import njit\n",
    "import statsmodels.api as sm"
   ]
  },
  {
   "cell_type": "code",
   "execution_count": 2,
   "id": "9e7eca08",
   "metadata": {},
   "outputs": [],
   "source": [
    "@njit\n",
    "def f(z, μ, Σ):\n",
    "    \"\"\"\n",
    "    The density function of multivariate normal distribution.\n",
    "\n",
    "    Parameters\n",
    "    ---------------\n",
    "    z: ndarray(float, dim=2)\n",
    "        random vector, N by 1\n",
    "    μ: ndarray(float, dim=1 or 2)\n",
    "        the mean of z, N by 1\n",
    "    Σ: ndarray(float, dim=2)\n",
    "        the covarianece matrix of z, N by 1\n",
    "    \"\"\"\n",
    "\n",
    "    z = np.atleast_2d(z)\n",
    "    μ = np.atleast_2d(μ)\n",
    "    Σ = np.atleast_2d(Σ)\n",
    "\n",
    "    N = z.size\n",
    "\n",
    "    temp1 = np.linalg.det(Σ) ** (-1/2)\n",
    "    temp2 = np.exp(-.5 * (z - μ).T @ np.linalg.inv(Σ) @ (z - μ))\n",
    "\n",
    "    return (2 * np.pi) ** (-N/2) * temp1 * temp2"
   ]
  },
  {
   "cell_type": "code",
   "execution_count": 3,
   "id": "88988b00",
   "metadata": {},
   "outputs": [],
   "source": [
    "class MultivariateNormal:\n",
    "    \"\"\"\n",
    "    Class of multivariate normal distribution.\n",
    "\n",
    "    Parameters\n",
    "    ----------\n",
    "    μ: ndarray(float, dim=1)\n",
    "        the mean of z, N by 1\n",
    "    Σ: ndarray(float, dim=2)\n",
    "        the covarianece matrix of z, N by 1\n",
    "\n",
    "    Arguments\n",
    "    ---------\n",
    "    μ, Σ:\n",
    "        see parameters\n",
    "    μs: list(ndarray(float, dim=1))\n",
    "        list of mean vectors μ1 and μ2 in order\n",
    "    Σs: list(list(ndarray(float, dim=2)))\n",
    "        2 dimensional list of covariance matrices\n",
    "        Σ11, Σ12, Σ21, Σ22 in order\n",
    "    βs: list(ndarray(float, dim=1))\n",
    "        list of regression coefficients β1 and β2 in order\n",
    "    \"\"\"\n",
    "\n",
    "    def __init__(self, μ, Σ):\n",
    "        \"initialization\"\n",
    "        self.μ = np.array(μ)\n",
    "        self.Σ = np.atleast_2d(Σ)\n",
    "\n",
    "    def partition(self, k):\n",
    "        \"\"\"\n",
    "        Given k, partition the random vector z into a size k vector z1\n",
    "        and a size N-k vector z2. Partition the mean vector μ into\n",
    "        μ1 and μ2, and the covariance matrix Σ into Σ11, Σ12, Σ21, Σ22\n",
    "        correspondingly. Compute the regression coefficients β1 and β2\n",
    "        using the partitioned arrays.\n",
    "        \"\"\"\n",
    "        μ = self.μ\n",
    "        Σ = self.Σ\n",
    "\n",
    "        self.μs = [μ[:k], μ[k:]]\n",
    "        self.Σs = [[Σ[:k, :k], Σ[:k, k:]],\n",
    "                   [Σ[k:, :k], Σ[k:, k:]]]\n",
    "\n",
    "        self.βs = [self.Σs[0][1] @ np.linalg.inv(self.Σs[1][1]),\n",
    "                   self.Σs[1][0] @ np.linalg.inv(self.Σs[0][0])]\n",
    "\n",
    "    def cond_dist(self, ind, z):\n",
    "        \"\"\"\n",
    "        Compute the conditional distribution of z1 given z2, or reversely.\n",
    "        Argument ind determines whether we compute the conditional\n",
    "        distribution of z1 (ind=0) or z2 (ind=1).\n",
    "\n",
    "        Returns\n",
    "        ---------\n",
    "        μ_hat: ndarray(float, ndim=1)\n",
    "            The conditional mean of z1 or z2.\n",
    "        Σ_hat: ndarray(float, ndim=2)\n",
    "            The conditional covariance matrix of z1 or z2.\n",
    "        \"\"\"\n",
    "        β = self.βs[ind]\n",
    "        μs = self.μs\n",
    "        Σs = self.Σs\n",
    "\n",
    "        μ_hat = μs[ind] + β @ (z - μs[1-ind])\n",
    "        Σ_hat = Σs[ind][ind] - β @ Σs[1-ind][1-ind] @ β.T\n",
    "\n",
    "        return μ_hat, Σ_hat"
   ]
  },
  {
   "cell_type": "code",
   "execution_count": 4,
   "id": "a9a4fa3f",
   "metadata": {},
   "outputs": [],
   "source": [
    "μ = np.array([.5, 1.])\n",
    "Σ = np.array([[1., .5], [.5 ,1.]])\n",
    "\n",
    "# construction of the multivariate normal instance\n",
    "multi_normal = MultivariateNormal(μ, Σ)"
   ]
  },
  {
   "cell_type": "code",
   "execution_count": 5,
   "id": "eeea96cf",
   "metadata": {},
   "outputs": [
    {
     "data": {
      "text/plain": [
       "(array([[0.5]]), array([[0.5]]))"
      ]
     },
     "execution_count": 5,
     "metadata": {},
     "output_type": "execute_result"
    }
   ],
   "source": [
    "k = 1 # choose partition\n",
    "\n",
    "# partition and compute regression coefficients\n",
    "multi_normal.partition(k)\n",
    "multi_normal.βs[0],multi_normal.βs[1]"
   ]
  },
  {
   "cell_type": "code",
   "execution_count": 6,
   "id": "cdb4365b",
   "metadata": {},
   "outputs": [],
   "source": [
    "beta = multi_normal.βs \n",
    "\n",
    "a1 = μ[0] - beta[0]*μ[1]\n",
    "b1 = beta[0]\n",
    "\n",
    "a2 = μ[1] - beta[1]*μ[0]\n",
    "b2 = beta[1]"
   ]
  },
  {
   "cell_type": "code",
   "execution_count": 7,
   "id": "028d0a5e",
   "metadata": {},
   "outputs": [
    {
     "name": "stdout",
     "output_type": "stream",
     "text": [
      "a1 =  [[0.]]\n",
      "b1 =  [[0.5]]\n"
     ]
    }
   ],
   "source": [
    "print (\"a1 = \", a1)\n",
    "print (\"b1 = \", b1)"
   ]
  },
  {
   "cell_type": "code",
   "execution_count": 8,
   "id": "9f68173b",
   "metadata": {},
   "outputs": [
    {
     "name": "stdout",
     "output_type": "stream",
     "text": [
      "a2 =  [[0.75]]\n",
      "b2 =  [[0.5]]\n"
     ]
    }
   ],
   "source": [
    "print (\"a2 = \", a2)\n",
    "print (\"b2 = \", b2)"
   ]
  },
  {
   "cell_type": "code",
   "execution_count": 9,
   "id": "43569a7e",
   "metadata": {},
   "outputs": [
    {
     "data": {
      "image/png": "[encoded data removed]",
      "text/plain": [
       "<Figure size 1200x1200 with 1 Axes>"
      ]
     },
     "metadata": {},
     "output_type": "display_data"
    }
   ],
   "source": [
    "z2 = np.linspace(-4,4,100)\n",
    "\n",
    "\n",
    "a1 = np.squeeze(a1)\n",
    "b1 = np.squeeze(b1)\n",
    "\n",
    "a2 = np.squeeze(a2)\n",
    "b2 = np.squeeze(b2)\n",
    "\n",
    "z1  = b1*z2 + a1\n",
    "\n",
    "\n",
    "z1h = z2/b2 - a2/b2\n",
    "\n",
    "\n",
    "fig = plt.figure(figsize=(12,12))\n",
    "ax = fig.add_subplot(1, 1, 1)\n",
    "ax.set(xlim=(-4, 4), ylim=(-4, 4))\n",
    "ax.spines['left'].set_position('center')\n",
    "ax.spines['bottom'].set_position('zero')\n",
    "ax.spines['right'].set_color('none')\n",
    "ax.spines['top'].set_color('none')\n",
    "ax.xaxis.set_ticks_position('bottom')\n",
    "ax.yaxis.set_ticks_position('left')\n",
    "plt.ylabel('$z_1$', loc = 'top')\n",
    "plt.xlabel('$z_2$,', loc = 'right')\n",
    "plt.title('two regressions')\n",
    "plt.plot(z2,z1, 'r', label = \"$z_1$ on $z_2$\")\n",
    "plt.plot(z2,z1h, 'b', label = \"$z_2$ on $z_1$\")\n",
    "plt.legend()\n",
    "plt.show()"
   ]
  },
  {
   "cell_type": "code",
   "execution_count": 10,
   "id": "6697549c",
   "metadata": {},
   "outputs": [
    {
     "name": "stdout",
     "output_type": "stream",
     "text": [
      "a1 =  0.0\n",
      "b1 =  0.5\n"
     ]
    }
   ],
   "source": [
    "print(\"a1 = \", a1)\n",
    "print(\"b1 = \", b1)"
   ]
  },
  {
   "cell_type": "code",
   "execution_count": 11,
   "id": "196ffcac",
   "metadata": {},
   "outputs": [
    {
     "name": "stdout",
     "output_type": "stream",
     "text": [
      "-a2/b2 =  -1.5\n",
      "1/b2 =  2.0\n"
     ]
    }
   ],
   "source": [
    "print(\"-a2/b2 = \", - a2/b2)\n",
    "print(\"1/b2 = \", 1/b2)"
   ]
  },
  {
   "cell_type": "code",
   "execution_count": 12,
   "id": "e8bb9ecb",
   "metadata": {},
   "outputs": [
    {
     "name": "stdout",
     "output_type": "stream",
     "text": [
      "μ2_hat, Σ2_hat =  [3.25] [[0.75]]\n"
     ]
    }
   ],
   "source": [
    "# compute the cond. dist. of z1\n",
    "ind = 1\n",
    "z1 = np.array([5.]) # given z1\n",
    "\n",
    "μ2_hat, Σ2_hat = multi_normal.cond_dist(ind, z1)\n",
    "print('μ2_hat, Σ2_hat = ', μ2_hat, Σ2_hat)"
   ]
  },
  {
   "cell_type": "code",
   "execution_count": 13,
   "id": "b619b3d6",
   "metadata": {},
   "outputs": [
    {
     "name": "stdout",
     "output_type": "stream",
     "text": [
      "μ1_hat, Σ1_hat =  [2.5] [[0.75]]\n"
     ]
    }
   ],
   "source": [
    "# compute the cond. dist. of z1\n",
    "ind = 0\n",
    "z2 = np.array([5.]) # given z2\n",
    "\n",
    "μ1_hat, Σ1_hat = multi_normal.cond_dist(ind, z2)\n",
    "print('μ1_hat, Σ1_hat = ', μ1_hat, Σ1_hat)"
   ]
  },
  {
   "cell_type": "code",
   "execution_count": 14,
   "id": "f8cf1ff3",
   "metadata": {},
   "outputs": [],
   "source": [
    "n = 1_000_000 # sample size\n",
    "\n",
    "# simulate multivariate normal random vectors\n",
    "data = np.random.multivariate_normal(μ, Σ, size=n)\n",
    "z1_data = data[:, 0]\n",
    "z2_data = data[:, 1]\n",
    "\n",
    "# OLS regression\n",
    "μ1, μ2 = multi_normal.μs\n",
    "results = sm.OLS(z1_data - μ1, z2_data - μ2).fit()"
   ]
  },
  {
   "cell_type": "code",
   "execution_count": 15,
   "id": "1678d3b3",
   "metadata": {},
   "outputs": [
    {
     "data": {
      "text/plain": [
       "(array([[0.5]]), array([0.50047034]))"
      ]
     },
     "execution_count": 15,
     "metadata": {},
     "output_type": "execute_result"
    }
   ],
   "source": [
    "multi_normal.βs[0], results.params"
   ]
  },
  {
   "cell_type": "code",
   "execution_count": 16,
   "id": "5b4ae242",
   "metadata": {},
   "outputs": [
    {
     "data": {
      "text/plain": [
       "(array([[0.75]]), 0.7512214541245483)"
      ]
     },
     "execution_count": 16,
     "metadata": {},
     "output_type": "execute_result"
    }
   ],
   "source": [
    "Σ1_hat, results.resid @ results.resid.T / (n - 1)"
   ]
  },
  {
   "cell_type": "code",
   "execution_count": 17,
   "id": "3c13bce2",
   "metadata": {},
   "outputs": [
    {
     "data": {
      "text/plain": [
       "(array([2.5]), array([2.50188135]))"
      ]
     },
     "execution_count": 17,
     "metadata": {},
     "output_type": "execute_result"
    }
   ],
   "source": [
    "μ1_hat, results.predict(z2 - μ2) + μ1"
   ]
  },
  {
   "cell_type": "code",
   "execution_count": 18,
   "id": "10f6eec8",
   "metadata": {},
   "outputs": [],
   "source": [
    "μ = np.random.random(3)\n",
    "C = np.random.random((3, 3))\n",
    "Σ = C @ C.T # positive semi-definite\n",
    "\n",
    "multi_normal = MultivariateNormal(μ, Σ)"
   ]
  },
  {
   "cell_type": "code",
   "execution_count": 19,
   "id": "2578ee2c",
   "metadata": {},
   "outputs": [
    {
     "data": {
      "text/plain": [
       "(array([0.98687957, 0.11410278, 0.24043583]),\n",
       " array([[1.47537092, 1.41429285, 1.01959834],\n",
       "        [1.41429285, 1.67994108, 1.02252289],\n",
       "        [1.01959834, 1.02252289, 1.00136225]]))"
      ]
     },
     "execution_count": 19,
     "metadata": {},
     "output_type": "execute_result"
    }
   ],
   "source": [
    "μ, Σ"
   ]
  },
  {
   "cell_type": "code",
   "execution_count": 20,
   "id": "eda67c14",
   "metadata": {},
   "outputs": [],
   "source": [
    "k = 1\n",
    "multi_normal.partition(k)"
   ]
  },
  {
   "cell_type": "code",
   "execution_count": 21,
   "id": "ab336f37",
   "metadata": {},
   "outputs": [],
   "source": [
    "ind = 0\n",
    "z2 = np.array([2., 5.])\n",
    "\n",
    "μ1_hat, Σ1_hat = multi_normal.cond_dist(ind, z2)"
   ]
  },
  {
   "cell_type": "code",
   "execution_count": 22,
   "id": "fce124b4",
   "metadata": {},
   "outputs": [],
   "source": [
    "n = 1_000_000\n",
    "data = np.random.multivariate_normal(μ, Σ, size=n)\n",
    "z1_data = data[:, :k]\n",
    "z2_data = data[:, k:]"
   ]
  },
  {
   "cell_type": "code",
   "execution_count": 23,
   "id": "634acdf4",
   "metadata": {},
   "outputs": [],
   "source": [
    "μ1, μ2 = multi_normal.μs\n",
    "results = sm.OLS(z1_data - μ1, z2_data - μ2).fit()"
   ]
  },
  {
   "cell_type": "code",
   "execution_count": 24,
   "id": "5c7d0776",
   "metadata": {},
   "outputs": [
    {
     "data": {
      "text/plain": [
       "(array([[0.58688646, 0.41892282]]), array([0.58662191, 0.41857035]))"
      ]
     },
     "execution_count": 24,
     "metadata": {},
     "output_type": "execute_result"
    }
   ],
   "source": [
    "multi_normal.βs[0], results.params"
   ]
  },
  {
   "cell_type": "code",
   "execution_count": 25,
   "id": "d6fdedda",
   "metadata": {},
   "outputs": [
    {
     "data": {
      "text/plain": [
       "(array([[0.21820858]]), 0.21839606356486133)"
      ]
     },
     "execution_count": 25,
     "metadata": {},
     "output_type": "execute_result"
    }
   ],
   "source": [
    "Σ1_hat, results.resid @ results.resid.T / (n - 1)"
   ]
  },
  {
   "cell_type": "code",
   "execution_count": 26,
   "id": "69ee1737",
   "metadata": {},
   "outputs": [
    {
     "data": {
      "text/plain": [
       "(array([4.08757716]), array([4.08540063]))"
      ]
     },
     "execution_count": 26,
     "metadata": {},
     "output_type": "execute_result"
    }
   ],
   "source": [
    "μ1_hat, results.predict(z2 - μ2) + μ1"
   ]
  },
  {
   "cell_type": "code",
   "execution_count": 27,
   "id": "29655e9e",
   "metadata": {},
   "outputs": [],
   "source": [
    "def construct_moments_IQ(n, μθ, σθ, σy):\n",
    "\n",
    "    μ_IQ = np.full(n+1, μθ)\n",
    "\n",
    "    D_IQ = np.zeros((n+1, n+1))\n",
    "    D_IQ[range(n), range(n)] = σy\n",
    "    D_IQ[:, n] = σθ\n",
    "\n",
    "    Σ_IQ = D_IQ @ D_IQ.T\n",
    "\n",
    "    return μ_IQ, Σ_IQ, D_IQ"
   ]
  },
  {
   "cell_type": "code",
   "execution_count": 28,
   "id": "c06de0b7",
   "metadata": {},
   "outputs": [
    {
     "data": {
      "text/plain": [
       "(array([100., 100., 100., 100., 100., 100., 100., 100., 100., 100., 100.,\n",
       "        100., 100., 100., 100., 100., 100., 100., 100., 100., 100., 100.,\n",
       "        100., 100., 100., 100., 100., 100., 100., 100., 100., 100., 100.,\n",
       "        100., 100., 100., 100., 100., 100., 100., 100., 100., 100., 100.,\n",
       "        100., 100., 100., 100., 100., 100., 100.]),\n",
       " array([[200., 100., 100., ..., 100., 100., 100.],\n",
       "        [100., 200., 100., ..., 100., 100., 100.],\n",
       "        [100., 100., 200., ..., 100., 100., 100.],\n",
       "        ...,\n",
       "        [100., 100., 100., ..., 200., 100., 100.],\n",
       "        [100., 100., 100., ..., 100., 200., 100.],\n",
       "        [100., 100., 100., ..., 100., 100., 100.]]),\n",
       " array([[10.,  0.,  0., ...,  0.,  0., 10.],\n",
       "        [ 0., 10.,  0., ...,  0.,  0., 10.],\n",
       "        [ 0.,  0., 10., ...,  0.,  0., 10.],\n",
       "        ...,\n",
       "        [ 0.,  0.,  0., ..., 10.,  0., 10.],\n",
       "        [ 0.,  0.,  0., ...,  0., 10., 10.],\n",
       "        [ 0.,  0.,  0., ...,  0.,  0., 10.]]))"
      ]
     },
     "execution_count": 28,
     "metadata": {},
     "output_type": "execute_result"
    }
   ],
   "source": [
    "n = 50\n",
    "μθ, σθ, σy = 100., 10., 10.\n",
    "\n",
    "μ_IQ, Σ_IQ, D_IQ = construct_moments_IQ(n, μθ, σθ, σy)\n",
    "μ_IQ, Σ_IQ, D_IQ"
   ]
  },
  {
   "cell_type": "code",
   "execution_count": 29,
   "id": "2faa7821",
   "metadata": {},
   "outputs": [],
   "source": [
    "multi_normal_IQ = MultivariateNormal(μ_IQ, Σ_IQ)\n",
    "\n",
    "k = n\n",
    "multi_normal_IQ.partition(k)"
   ]
  },
  {
   "cell_type": "code",
   "execution_count": 30,
   "id": "39d8de68",
   "metadata": {},
   "outputs": [],
   "source": [
    "x = np.random.multivariate_normal(μ_IQ, Σ_IQ)\n",
    "y = x[:-1] # test scores\n",
    "θ = x[-1]  # IQ"
   ]
  },
  {
   "cell_type": "code",
   "execution_count": 31,
   "id": "6d2ca8b1",
   "metadata": {},
   "outputs": [
    {
     "data": {
      "text/plain": [
       "107.2554052488007"
      ]
     },
     "execution_count": 31,
     "metadata": {},
     "output_type": "execute_result"
    }
   ],
   "source": [
    "# the true value\n",
    "θ"
   ]
  },
  {
   "cell_type": "code",
   "execution_count": 32,
   "id": "b9351b20",
   "metadata": {},
   "outputs": [
    {
     "data": {
      "text/plain": [
       "(array([106.21883334]), array([[1.96078431]]))"
      ]
     },
     "execution_count": 32,
     "metadata": {},
     "output_type": "execute_result"
    }
   ],
   "source": [
    "ind = 1\n",
    "multi_normal_IQ.cond_dist(ind, y)"
   ]
  },
  {
   "cell_type": "code",
   "execution_count": 33,
   "id": "09cf3485",
   "metadata": {},
   "outputs": [],
   "source": [
    "# array for containing moments\n",
    "μθ_hat_arr = np.empty(n)\n",
    "Σθ_hat_arr = np.empty(n)\n",
    "\n",
    "# loop over number of test scores\n",
    "for i in range(1, n+1):\n",
    "    # construction of multivariate normal distribution instance\n",
    "    μ_IQ_i, Σ_IQ_i, D_IQ_i = construct_moments_IQ(i, μθ, σθ, σy)\n",
    "    multi_normal_IQ_i = MultivariateNormal(μ_IQ_i, Σ_IQ_i)\n",
    "\n",
    "    # partition and compute conditional distribution\n",
    "    multi_normal_IQ_i.partition(i)\n",
    "    scores_i = y[:i]\n",
    "    μθ_hat_i, Σθ_hat_i = multi_normal_IQ_i.cond_dist(1, scores_i)\n",
    "\n",
    "    # store the results\n",
    "    μθ_hat_arr[i-1] = μθ_hat_i[0]\n",
    "    Σθ_hat_arr[i-1] = Σθ_hat_i[0, 0]\n",
    "\n",
    "# transform variance to standard deviation\n",
    "σθ_hat_arr = np.sqrt(Σθ_hat_arr)"
   ]
  },
  {
   "cell_type": "code",
   "execution_count": 34,
   "id": "a5999216",
   "metadata": {},
   "outputs": [
    {
     "data": {
      "image/png": "[encoded data removed]",
      "text/plain": [
       "<Figure size 1100x500 with 1 Axes>"
      ]
     },
     "metadata": {},
     "output_type": "display_data"
    }
   ],
   "source": [
    "μθ_hat_lower = μθ_hat_arr - 1.96 * σθ_hat_arr\n",
    "μθ_hat_higher = μθ_hat_arr + 1.96 * σθ_hat_arr\n",
    "\n",
    "plt.hlines(θ, 1, n+1, ls='--', label='true $θ$')\n",
    "plt.plot(range(1, n+1), μθ_hat_arr, color='b', label='$\\hat{μ}_{θ}$')\n",
    "plt.plot(range(1, n+1), μθ_hat_lower, color='b', ls='--')\n",
    "plt.plot(range(1, n+1), μθ_hat_higher, color='b', ls='--')\n",
    "plt.fill_between(range(1, n+1), μθ_hat_lower, μθ_hat_higher,\n",
    "                 color='b', alpha=0.2, label='95%')\n",
    "\n",
    "plt.xlabel('number of test scores')\n",
    "plt.ylabel('$\\hat{θ}$')\n",
    "plt.legend()\n",
    "\n",
    "plt.show()"
   ]
  },
  {
   "cell_type": "code",
   "execution_count": 35,
   "id": "5d8e1c03",
   "metadata": {},
   "outputs": [],
   "source": [
    "C = np.linalg.cholesky(Σ_IQ)\n",
    "G = np.linalg.inv(C)\n",
    "\n",
    "ε = G @ (x - μθ)"
   ]
  },
  {
   "cell_type": "code",
   "execution_count": 36,
   "id": "cff7eaca",
   "metadata": {},
   "outputs": [],
   "source": [
    "cε = C[n, :] * ε\n",
    "\n",
    "# compute the sequence of μθ and Σθ conditional on y1, y2, ..., yk\n",
    "μθ_hat_arr_C = np.array([np.sum(cε[:k+1]) for k in range(n)]) + μθ\n",
    "Σθ_hat_arr_C = np.array([np.sum(C[n, i+1:n+1] ** 2) for i in range(n)])"
   ]
  },
  {
   "cell_type": "code",
   "execution_count": 37,
   "id": "45bbfc59",
   "metadata": {},
   "outputs": [
    {
     "data": {
      "text/plain": [
       "True"
      ]
     },
     "execution_count": 37,
     "metadata": {},
     "output_type": "execute_result"
    }
   ],
   "source": [
    "# conditional mean\n",
    "np.max(np.abs(μθ_hat_arr - μθ_hat_arr_C)) < 1e-10"
   ]
  },
  {
   "cell_type": "code",
   "execution_count": 38,
   "id": "8980edd9",
   "metadata": {},
   "outputs": [
    {
     "data": {
      "text/plain": [
       "True"
      ]
     },
     "execution_count": 38,
     "metadata": {},
     "output_type": "execute_result"
    }
   ],
   "source": [
    "# conditional variance\n",
    "np.max(np.abs(Σθ_hat_arr - Σθ_hat_arr_C)) < 1e-10"
   ]
  },
  {
   "cell_type": "code",
   "execution_count": 39,
   "id": "e3d18b27",
   "metadata": {},
   "outputs": [],
   "source": [
    "def construct_moments_IQ2d(n, μθ, σθ, μη, ση, σy):\n",
    "\n",
    "    μ_IQ2d = np.empty(2*(n+1))\n",
    "    μ_IQ2d[:n] = μθ\n",
    "    μ_IQ2d[2*n] = μθ\n",
    "    μ_IQ2d[n:2*n] = μη\n",
    "    μ_IQ2d[2*n+1] = μη\n",
    "\n",
    "\n",
    "    D_IQ2d = np.zeros((2*(n+1), 2*(n+1)))\n",
    "    D_IQ2d[range(2*n), range(2*n)] = σy\n",
    "    D_IQ2d[:n, 2*n] = σθ\n",
    "    D_IQ2d[2*n, 2*n] = σθ\n",
    "    D_IQ2d[n:2*n, 2*n+1] = ση\n",
    "    D_IQ2d[2*n+1, 2*n+1] = ση\n",
    "\n",
    "    Σ_IQ2d = D_IQ2d @ D_IQ2d.T\n",
    "\n",
    "    return μ_IQ2d, Σ_IQ2d, D_IQ2d"
   ]
  },
  {
   "cell_type": "code",
   "execution_count": 40,
   "id": "8044b17c",
   "metadata": {},
   "outputs": [
    {
     "data": {
      "text/plain": [
       "(array([100., 100., 100., 100., 100., 100.]),\n",
       " array([[200., 100.,   0.,   0., 100.,   0.],\n",
       "        [100., 200.,   0.,   0., 100.,   0.],\n",
       "        [  0.,   0., 200., 100.,   0., 100.],\n",
       "        [  0.,   0., 100., 200.,   0., 100.],\n",
       "        [100., 100.,   0.,   0., 100.,   0.],\n",
       "        [  0.,   0., 100., 100.,   0., 100.]]),\n",
       " array([[10.,  0.,  0.,  0., 10.,  0.],\n",
       "        [ 0., 10.,  0.,  0., 10.,  0.],\n",
       "        [ 0.,  0., 10.,  0.,  0., 10.],\n",
       "        [ 0.,  0.,  0., 10.,  0., 10.],\n",
       "        [ 0.,  0.,  0.,  0., 10.,  0.],\n",
       "        [ 0.,  0.,  0.,  0.,  0., 10.]]))"
      ]
     },
     "execution_count": 40,
     "metadata": {},
     "output_type": "execute_result"
    }
   ],
   "source": [
    "n = 2\n",
    "# mean and variance of θ, η, and y\n",
    "μθ, σθ, μη, ση, σy = 100., 10., 100., 10, 10\n",
    "\n",
    "μ_IQ2d, Σ_IQ2d, D_IQ2d = construct_moments_IQ2d(n, μθ, σθ, μη, ση, σy)\n",
    "μ_IQ2d, Σ_IQ2d, D_IQ2d"
   ]
  },
  {
   "cell_type": "code",
   "execution_count": 41,
   "id": "1a0a5af5",
   "metadata": {},
   "outputs": [
    {
     "data": {
      "text/plain": [
       "(113.56929295623003, 83.87221521842687)"
      ]
     },
     "execution_count": 41,
     "metadata": {},
     "output_type": "execute_result"
    }
   ],
   "source": [
    "# take one draw\n",
    "x = np.random.multivariate_normal(μ_IQ2d, Σ_IQ2d)\n",
    "y1 = x[:n]\n",
    "y2 = x[n:2*n]\n",
    "θ = x[2*n]\n",
    "η = x[2*n+1]\n",
    "\n",
    "# the true values\n",
    "θ, η"
   ]
  },
  {
   "cell_type": "code",
   "execution_count": 42,
   "id": "d0582ea8",
   "metadata": {},
   "outputs": [
    {
     "data": {
      "text/plain": [
       "(array([119.58148161,  87.56805789]),\n",
       " array([[33.33333333,  0.        ],\n",
       "        [ 0.        , 33.33333333]]))"
      ]
     },
     "execution_count": 42,
     "metadata": {},
     "output_type": "execute_result"
    }
   ],
   "source": [
    "multi_normal_IQ2d = MultivariateNormal(μ_IQ2d, Σ_IQ2d)\n",
    "\n",
    "k = 2*n # the length of data vector\n",
    "multi_normal_IQ2d.partition(k)\n",
    "\n",
    "multi_normal_IQ2d.cond_dist(1, [*y1, *y2])"
   ]
  },
  {
   "cell_type": "code",
   "execution_count": 43,
   "id": "1f938579",
   "metadata": {},
   "outputs": [],
   "source": [
    "def cond_dist_IQ2d(μ, Σ, data):\n",
    "\n",
    "    n = len(μ)\n",
    "\n",
    "    multi_normal = MultivariateNormal(μ, Σ)\n",
    "    multi_normal.partition(n-1)\n",
    "    μ_hat, Σ_hat = multi_normal.cond_dist(1, data)\n",
    "\n",
    "    return μ_hat, Σ_hat"
   ]
  },
  {
   "cell_type": "code",
   "execution_count": 44,
   "id": "ee108a27",
   "metadata": {},
   "outputs": [
    {
     "name": "stdout",
     "output_type": "stream",
     "text": [
      "The mean and variance of θ conditional on y1, y2, y3, y4  are 119.58 and 33.33 respectively\n",
      "The mean and variance of θ conditional on y1, y2          are 119.58 and 33.33 respectively\n",
      "The mean and variance of θ conditional on y3, y4          are 100.00 and 100.00 respectively\n",
      "The mean and variance of η conditional on y1, y2, y3, y4  are 87.57 and 33.33 respectively\n",
      "The mean and variance of η conditional on y1, y2          are 100.00 and 100.00 respectively\n",
      "The mean and variance of η conditional on y3, y4          are 87.57 and 33.33 respectively\n"
     ]
    }
   ],
   "source": [
    "for indices, IQ, conditions in [([*range(2*n), 2*n], 'θ', 'y1, y2, y3, y4'),\n",
    "                                ([*range(n), 2*n], 'θ', 'y1, y2'),\n",
    "                                ([*range(n, 2*n), 2*n], 'θ', 'y3, y4'),\n",
    "                                ([*range(2*n), 2*n+1], 'η', 'y1, y2, y3, y4'),\n",
    "                                ([*range(n), 2*n+1], 'η', 'y1, y2'),\n",
    "                                ([*range(n, 2*n), 2*n+1], 'η', 'y3, y4')]:\n",
    "\n",
    "    μ_hat, Σ_hat = cond_dist_IQ2d(μ_IQ2d[indices], Σ_IQ2d[indices][:, indices], x[indices[:-1]])\n",
    "    print(f'The mean and variance of {IQ} conditional on {conditions: <15} are ' +\n",
    "          f'{μ_hat[0]:1.2f} and {Σ_hat[0, 0]:1.2f} respectively')"
   ]
  },
  {
   "cell_type": "code",
   "execution_count": 45,
   "id": "ff0324d6",
   "metadata": {},
   "outputs": [],
   "source": [
    "# as an example, consider the case where T = 3\n",
    "T = 3"
   ]
  },
  {
   "cell_type": "code",
   "execution_count": 46,
   "id": "9aee10f9",
   "metadata": {},
   "outputs": [],
   "source": [
    "# variance of the initial distribution x_0\n",
    "σ0 = 1.\n",
    "\n",
    "# parameters of the equation system\n",
    "a = .9\n",
    "b = 1.\n",
    "c = 1.0\n",
    "d = .05"
   ]
  },
  {
   "cell_type": "code",
   "execution_count": 47,
   "id": "981fee47",
   "metadata": {},
   "outputs": [],
   "source": [
    "# construct the covariance matrix of X\n",
    "Σx = np.empty((T+1, T+1))\n",
    "\n",
    "Σx[0, 0] = σ0 ** 2\n",
    "for i in range(T):\n",
    "    Σx[i, i+1:] = Σx[i, i] * a ** np.arange(1, T+1-i)\n",
    "    Σx[i+1:, i] = Σx[i, i+1:]\n",
    "\n",
    "    Σx[i+1, i+1] = a ** 2 * Σx[i, i] + b ** 2"
   ]
  },
  {
   "cell_type": "code",
   "execution_count": 48,
   "id": "2e8029d7",
   "metadata": {},
   "outputs": [
    {
     "data": {
      "text/plain": [
       "array([[1.      , 0.9     , 0.81    , 0.729   ],\n",
       "       [0.9     , 1.81    , 1.629   , 1.4661  ],\n",
       "       [0.81    , 1.629   , 2.4661  , 2.21949 ],\n",
       "       [0.729   , 1.4661  , 2.21949 , 2.997541]])"
      ]
     },
     "execution_count": 48,
     "metadata": {},
     "output_type": "execute_result"
    }
   ],
   "source": [
    "Σx"
   ]
  },
  {
   "cell_type": "code",
   "execution_count": 49,
   "id": "3af09dbe",
   "metadata": {},
   "outputs": [],
   "source": [
    "# construct the covariance matrix of Y\n",
    "C = np.eye(T+1) * c\n",
    "D = np.eye(T+1) * d\n",
    "\n",
    "Σy = C @ Σx @ C.T + D @ D.T"
   ]
  },
  {
   "cell_type": "code",
   "execution_count": 50,
   "id": "fbda9eed",
   "metadata": {},
   "outputs": [],
   "source": [
    "# construct the covariance matrix of Z\n",
    "Σz = np.empty((2*(T+1), 2*(T+1)))\n",
    "\n",
    "Σz[:T+1, :T+1] = Σx\n",
    "Σz[:T+1, T+1:] = Σx @ C.T\n",
    "Σz[T+1:, :T+1] = C @ Σx\n",
    "Σz[T+1:, T+1:] = Σy"
   ]
  },
  {
   "cell_type": "code",
   "execution_count": 51,
   "id": "bf5f2707",
   "metadata": {},
   "outputs": [
    {
     "data": {
      "text/plain": [
       "array([[1.      , 0.9     , 0.81    , 0.729   , 1.      , 0.9     ,\n",
       "        0.81    , 0.729   ],\n",
       "       [0.9     , 1.81    , 1.629   , 1.4661  , 0.9     , 1.81    ,\n",
       "        1.629   , 1.4661  ],\n",
       "       [0.81    , 1.629   , 2.4661  , 2.21949 , 0.81    , 1.629   ,\n",
       "        2.4661  , 2.21949 ],\n",
       "       [0.729   , 1.4661  , 2.21949 , 2.997541, 0.729   , 1.4661  ,\n",
       "        2.21949 , 2.997541],\n",
       "       [1.      , 0.9     , 0.81    , 0.729   , 1.0025  , 0.9     ,\n",
       "        0.81    , 0.729   ],\n",
       "       [0.9     , 1.81    , 1.629   , 1.4661  , 0.9     , 1.8125  ,\n",
       "        1.629   , 1.4661  ],\n",
       "       [0.81    , 1.629   , 2.4661  , 2.21949 , 0.81    , 1.629   ,\n",
       "        2.4686  , 2.21949 ],\n",
       "       [0.729   , 1.4661  , 2.21949 , 2.997541, 0.729   , 1.4661  ,\n",
       "        2.21949 , 3.000041]])"
      ]
     },
     "execution_count": 51,
     "metadata": {},
     "output_type": "execute_result"
    }
   ],
   "source": [
    "Σz"
   ]
  },
  {
   "cell_type": "code",
   "execution_count": 52,
   "id": "e9f72779",
   "metadata": {},
   "outputs": [],
   "source": [
    "# construct the mean vector of Z\n",
    "μz = np.zeros(2*(T+1))"
   ]
  },
  {
   "cell_type": "code",
   "execution_count": 53,
   "id": "dd554b6c",
   "metadata": {},
   "outputs": [],
   "source": [
    "z = np.random.multivariate_normal(μz, Σz)\n",
    "\n",
    "x = z[:T+1]\n",
    "y = z[T+1:]"
   ]
  },
  {
   "cell_type": "code",
   "execution_count": 54,
   "id": "3dd5d5cb",
   "metadata": {},
   "outputs": [],
   "source": [
    "# construct a MultivariateNormal instance\n",
    "multi_normal_ex1 = MultivariateNormal(μz, Σz)\n",
    "x = z[:T+1]\n",
    "y = z[T+1:]"
   ]
  },
  {
   "cell_type": "code",
   "execution_count": 55,
   "id": "de530d1d",
   "metadata": {},
   "outputs": [],
   "source": [
    "# partition Z into X and Y\n",
    "multi_normal_ex1.partition(T+1)"
   ]
  },
  {
   "cell_type": "code",
   "execution_count": 56,
   "id": "77b53c0b",
   "metadata": {},
   "outputs": [
    {
     "name": "stdout",
     "output_type": "stream",
     "text": [
      "X =  [0.29025927 0.70230104 1.0772114  1.5059603 ]\n",
      "Y =  [0.32548463 0.71756503 1.17022404 1.59904789]\n",
      " E [ X | Y] = \n"
     ]
    },
    {
     "data": {
      "text/plain": [
       "(array([0.32562596, 0.71768299, 1.17013875, 1.59768648]),\n",
       " array([[2.48875094e-03, 5.57449314e-06, 1.24861718e-08, 2.80231394e-11],\n",
       "        [5.57449314e-06, 2.48876343e-03, 5.57452116e-06, 1.25113937e-08],\n",
       "        [1.24861718e-08, 5.57452116e-06, 2.48876346e-03, 5.58575339e-06],\n",
       "        [2.80232504e-11, 1.25113935e-08, 5.58575339e-06, 2.49377812e-03]]))"
      ]
     },
     "execution_count": 56,
     "metadata": {},
     "output_type": "execute_result"
    }
   ],
   "source": [
    "# compute the conditional mean and covariance matrix of X given Y=y\n",
    "\n",
    "print(\"X = \", x)\n",
    "print(\"Y = \", y)\n",
    "print(\" E [ X | Y] = \", )\n",
    "\n",
    "multi_normal_ex1.cond_dist(0, y)"
   ]
  },
  {
   "cell_type": "code",
   "execution_count": 57,
   "id": "d6346f94",
   "metadata": {},
   "outputs": [],
   "source": [
    "t = 3"
   ]
  },
  {
   "cell_type": "code",
   "execution_count": 58,
   "id": "c8bebc44",
   "metadata": {},
   "outputs": [],
   "source": [
    "# mean of the subvector\n",
    "sub_μz = np.zeros(t+1)\n",
    "\n",
    "# covariance matrix of the subvector\n",
    "sub_Σz = np.empty((t+1, t+1))\n",
    "\n",
    "sub_Σz[0, 0] = Σz[t, t] # x_t\n",
    "sub_Σz[0, 1:] = Σz[t, T+1:T+t+1]\n",
    "sub_Σz[1:, 0] = Σz[T+1:T+t+1, t]\n",
    "sub_Σz[1:, 1:] = Σz[T+1:T+t+1, T+1:T+t+1]"
   ]
  },
  {
   "cell_type": "code",
   "execution_count": 59,
   "id": "8f263824",
   "metadata": {},
   "outputs": [
    {
     "data": {
      "text/plain": [
       "array([[2.997541, 0.729   , 1.4661  , 2.21949 ],\n",
       "       [0.729   , 1.0025  , 0.9     , 0.81    ],\n",
       "       [1.4661  , 0.9     , 1.8125  , 1.629   ],\n",
       "       [2.21949 , 0.81    , 1.629   , 2.4686  ]])"
      ]
     },
     "execution_count": 59,
     "metadata": {},
     "output_type": "execute_result"
    }
   ],
   "source": [
    "sub_Σz"
   ]
  },
  {
   "cell_type": "code",
   "execution_count": 60,
   "id": "57a24ca0",
   "metadata": {},
   "outputs": [],
   "source": [
    "multi_normal_ex2 = MultivariateNormal(sub_μz, sub_Σz)\n",
    "multi_normal_ex2.partition(1)"
   ]
  },
  {
   "cell_type": "code",
   "execution_count": 61,
   "id": "5e2e3c9e",
   "metadata": {},
   "outputs": [
    {
     "data": {
      "text/plain": [
       "(array([1.05202488]), array([[1.00201996]]))"
      ]
     },
     "execution_count": 61,
     "metadata": {},
     "output_type": "execute_result"
    }
   ],
   "source": [
    "sub_y = y[:t]\n",
    "\n",
    "multi_normal_ex2.cond_dist(0, sub_y)"
   ]
  },
  {
   "cell_type": "code",
   "execution_count": 62,
   "id": "f7be4153",
   "metadata": {},
   "outputs": [],
   "source": [
    "t = 3\n",
    "j = 2"
   ]
  },
  {
   "cell_type": "code",
   "execution_count": 63,
   "id": "99f135d9",
   "metadata": {},
   "outputs": [],
   "source": [
    "sub_μz = np.zeros(t-j+2)\n",
    "sub_Σz = np.empty((t-j+2, t-j+2))\n",
    "\n",
    "sub_Σz[0, 0] = Σz[T+t+1, T+t+1]\n",
    "sub_Σz[0, 1:] = Σz[T+t+1, T+1:T+t-j+2]\n",
    "sub_Σz[1:, 0] = Σz[T+1:T+t-j+2, T+t+1]\n",
    "sub_Σz[1:, 1:] = Σz[T+1:T+t-j+2, T+1:T+t-j+2]"
   ]
  },
  {
   "cell_type": "code",
   "execution_count": 64,
   "id": "7428b999",
   "metadata": {},
   "outputs": [
    {
     "data": {
      "text/plain": [
       "array([[3.000041, 0.729   , 1.4661  ],\n",
       "       [0.729   , 1.0025  , 0.9     ],\n",
       "       [1.4661  , 0.9     , 1.8125  ]])"
      ]
     },
     "execution_count": 64,
     "metadata": {},
     "output_type": "execute_result"
    }
   ],
   "source": [
    "sub_Σz"
   ]
  },
  {
   "cell_type": "code",
   "execution_count": 65,
   "id": "878e60a9",
   "metadata": {},
   "outputs": [],
   "source": [
    "multi_normal_ex3 = MultivariateNormal(sub_μz, sub_Σz)\n",
    "multi_normal_ex3.partition(1)"
   ]
  },
  {
   "cell_type": "code",
   "execution_count": 66,
   "id": "b5064aea",
   "metadata": {},
   "outputs": [
    {
     "data": {
      "text/plain": [
       "(array([0.5803702]), array([[1.81413617]]))"
      ]
     },
     "execution_count": 66,
     "metadata": {},
     "output_type": "execute_result"
    }
   ],
   "source": [
    "sub_y = y[:t-j+1]\n",
    "\n",
    "multi_normal_ex3.cond_dist(0, sub_y)"
   ]
  },
  {
   "cell_type": "code",
   "execution_count": 67,
   "id": "8cdb38e1",
   "metadata": {},
   "outputs": [
    {
     "data": {
      "text/plain": [
       "array([[1.00124922, 0.        , 0.        , 0.        ],\n",
       "       [0.8988771 , 1.00225743, 0.        , 0.        ],\n",
       "       [0.80898939, 0.89978675, 1.00225743, 0.        ],\n",
       "       [0.72809046, 0.80980808, 0.89978676, 1.00225743]])"
      ]
     },
     "execution_count": 67,
     "metadata": {},
     "output_type": "execute_result"
    }
   ],
   "source": [
    "H = np.linalg.cholesky(Σy)\n",
    "\n",
    "H"
   ]
  },
  {
   "cell_type": "code",
   "execution_count": 68,
   "id": "965a5b49",
   "metadata": {},
   "outputs": [
    {
     "data": {
      "text/plain": [
       "array([0.32507854, 0.42440132, 0.52418495, 0.54579092])"
      ]
     },
     "execution_count": 68,
     "metadata": {},
     "output_type": "execute_result"
    }
   ],
   "source": [
    "ε = np.linalg.inv(H) @ y\n",
    "\n",
    "ε"
   ]
  },
  {
   "cell_type": "code",
   "execution_count": 69,
   "id": "3ce43b30",
   "metadata": {},
   "outputs": [
    {
     "data": {
      "text/plain": [
       "array([0.32548463, 0.71756503, 1.17022404, 1.59904789])"
      ]
     },
     "execution_count": 69,
     "metadata": {},
     "output_type": "execute_result"
    }
   ],
   "source": [
    "y"
   ]
  },
  {
   "cell_type": "code",
   "execution_count": 70,
   "id": "2dbfa21f",
   "metadata": {},
   "outputs": [],
   "source": [
    "# set parameters\n",
    "T = 80\n",
    "T = 160\n",
    "# coefficients of the second order difference equation\n",
    "𝛼0 = 10\n",
    "𝛼1 = 1.53\n",
    "𝛼2 = -.9\n",
    "\n",
    "# variance of u\n",
    "σu = 1.\n",
    "σu = 10.\n",
    "\n",
    "# distribution of y_{-1} and y_{0}\n",
    "μy_tilde = np.array([1., 0.5])\n",
    "Σy_tilde = np.array([[2., 1.], [1., 0.5]])"
   ]
  },
  {
   "cell_type": "code",
   "execution_count": 71,
   "id": "d9a50999",
   "metadata": {},
   "outputs": [],
   "source": [
    "# construct A and A^{\\prime}\n",
    "A = np.zeros((T, T))\n",
    "\n",
    "for i in range(T):\n",
    "    A[i, i] = 1\n",
    "\n",
    "    if i-1 >= 0:\n",
    "        A[i, i-1] = -𝛼1\n",
    "\n",
    "    if i-2 >= 0:\n",
    "        A[i, i-2] = -𝛼2\n",
    "\n",
    "A_inv = np.linalg.inv(A)"
   ]
  },
  {
   "cell_type": "code",
   "execution_count": 72,
   "id": "e66dfc03",
   "metadata": {},
   "outputs": [],
   "source": [
    "# compute the mean vectors of b and y\n",
    "μb = np.full(T, 𝛼0)\n",
    "μb[0] += 𝛼1 * μy_tilde[1] + 𝛼2 * μy_tilde[0]\n",
    "μb[1] += 𝛼2 * μy_tilde[1]\n",
    "\n",
    "μy = A_inv @ μb"
   ]
  },
  {
   "cell_type": "code",
   "execution_count": 73,
   "id": "644dcb16",
   "metadata": {},
   "outputs": [],
   "source": [
    "# compute the covariance matrices of b and y\n",
    "Σu = np.eye(T) * σu ** 2\n",
    "\n",
    "Σb = np.zeros((T, T))\n",
    "\n",
    "C = np.array([[𝛼2, 𝛼1], [0, 𝛼2]])\n",
    "Σb[:2, :2] = C @ Σy_tilde @ C.T\n",
    "\n",
    "Σy = A_inv @ (Σb + Σu) @ A_inv.T"
   ]
  },
  {
   "cell_type": "code",
   "execution_count": 74,
   "id": "af54cc79",
   "metadata": {},
   "outputs": [],
   "source": [
    "β = .96"
   ]
  },
  {
   "cell_type": "code",
   "execution_count": 75,
   "id": "c7ef77c7",
   "metadata": {},
   "outputs": [],
   "source": [
    "# construct B\n",
    "B = np.zeros((T, T))\n",
    "\n",
    "for i in range(T):\n",
    "    B[i, i:] = β ** np.arange(0, T-i)"
   ]
  },
  {
   "cell_type": "code",
   "execution_count": 76,
   "id": "025019b9",
   "metadata": {},
   "outputs": [],
   "source": [
    "D = np.vstack([np.eye(T), B])"
   ]
  },
  {
   "cell_type": "code",
   "execution_count": 77,
   "id": "ccd933e6",
   "metadata": {},
   "outputs": [],
   "source": [
    "μz = D @ μy\n",
    "Σz = D @ Σy @ D.T"
   ]
  },
  {
   "cell_type": "code",
   "execution_count": 78,
   "id": "294b5a37",
   "metadata": {},
   "outputs": [],
   "source": [
    "z = np.random.multivariate_normal(μz, Σz)\n",
    "y, p = z[:T], z[T:]"
   ]
  },
  {
   "cell_type": "code",
   "execution_count": 79,
   "id": "13e0fd18",
   "metadata": {},
   "outputs": [],
   "source": [
    "cond_Ep = np.empty(T-1)\n",
    "\n",
    "sub_μ = np.empty(3)\n",
    "sub_Σ = np.empty((3, 3))\n",
    "for t in range(2, T+1):\n",
    "    sub_μ[:] = μz[[t-2, t-1, T-1+t]]\n",
    "    sub_Σ[:, :] = Σz[[t-2, t-1, T-1+t], :][:, [t-2, t-1, T-1+t]]\n",
    "\n",
    "    multi_normal = MultivariateNormal(sub_μ, sub_Σ)\n",
    "    multi_normal.partition(2)\n",
    "\n",
    "    cond_Ep[t-2] = multi_normal.cond_dist(1, y[t-2:t])[0][0]"
   ]
  },
  {
   "cell_type": "code",
   "execution_count": 80,
   "id": "0ad12e27",
   "metadata": {},
   "outputs": [
    {
     "data": {
      "image/png": "[encoded data removed]",
      "text/plain": [
       "<Figure size 1100x500 with 1 Axes>"
      ]
     },
     "metadata": {},
     "output_type": "display_data"
    }
   ],
   "source": [
    "plt.plot(range(1, T), y[1:], label='$y_{t}$')\n",
    "plt.plot(range(1, T), y[:-1], label='$y_{t-1}$')\n",
    "plt.plot(range(1, T), p[1:], label='$p_{t}$')\n",
    "plt.plot(range(1, T), cond_Ep, label='$Ep_{t}|y_{t}, y_{t-1}$')\n",
    "\n",
    "plt.xlabel('t')\n",
    "plt.legend(loc=1)\n",
    "plt.show()"
   ]
  },
  {
   "cell_type": "code",
   "execution_count": 81,
   "id": "1ef477c2",
   "metadata": {},
   "outputs": [],
   "source": [
    "G = np.array([[1., 3.]])\n",
    "R = np.array([[1.]])\n",
    "\n",
    "x0_hat = np.array([0., 1.])\n",
    "Σ0 = np.array([[1., .5], [.3, 2.]])\n",
    "\n",
    "μ = np.hstack([x0_hat, G @ x0_hat])\n",
    "Σ = np.block([[Σ0, Σ0 @ G.T], [G @ Σ0, G @ Σ0 @ G.T + R]])"
   ]
  },
  {
   "cell_type": "code",
   "execution_count": 82,
   "id": "4ed37a13",
   "metadata": {},
   "outputs": [],
   "source": [
    "# construction of the multivariate normal instance\n",
    "multi_normal = MultivariateNormal(μ, Σ)"
   ]
  },
  {
   "cell_type": "code",
   "execution_count": 83,
   "id": "0f385916",
   "metadata": {},
   "outputs": [],
   "source": [
    "multi_normal.partition(2)"
   ]
  },
  {
   "cell_type": "code",
   "execution_count": 84,
   "id": "845bc0f4",
   "metadata": {},
   "outputs": [
    {
     "data": {
      "text/plain": [
       "(array([-0.078125,  0.803125]),\n",
       " array([[ 0.72098214, -0.203125  ],\n",
       "        [-0.403125  ,  0.228125  ]]))"
      ]
     },
     "execution_count": 84,
     "metadata": {},
     "output_type": "execute_result"
    }
   ],
   "source": [
    "# the observation of y\n",
    "y0 = 2.3\n",
    "\n",
    "# conditional distribution of x0\n",
    "μ1_hat, Σ11 = multi_normal.cond_dist(0, y0)\n",
    "μ1_hat, Σ11"
   ]
  },
  {
   "cell_type": "code",
   "execution_count": 85,
   "id": "938e6b70",
   "metadata": {},
   "outputs": [
    {
     "data": {
      "text/plain": [
       "(array([0.1215625, 0.24875  ]),\n",
       " array([[4.12874554, 1.95523214],\n",
       "        [1.92123214, 1.04592857]]))"
      ]
     },
     "execution_count": 85,
     "metadata": {},
     "output_type": "execute_result"
    }
   ],
   "source": [
    "A = np.array([[0.5, 0.2], [-0.1, 0.3]])\n",
    "C = np.array([[2.], [1.]])\n",
    "\n",
    "# conditional distribution of x1\n",
    "x1_cond = A @ μ1_hat\n",
    "Σ1_cond = C @ C.T + A @ Σ11 @ A.T\n",
    "x1_cond, Σ1_cond"
   ]
  },
  {
   "cell_type": "code",
   "execution_count": 86,
   "id": "c03fa7b3",
   "metadata": {},
   "outputs": [],
   "source": [
    "def iterate(x0_hat, Σ0, A, C, G, R, y_seq):\n",
    "\n",
    "    p, n = G.shape\n",
    "\n",
    "    T = len(y_seq)\n",
    "    x_hat_seq = np.empty((T+1, n))\n",
    "    Σ_hat_seq = np.empty((T+1, n, n))\n",
    "\n",
    "    x_hat_seq[0] = x0_hat\n",
    "    Σ_hat_seq[0] = Σ0\n",
    "\n",
    "    for t in range(T):\n",
    "        xt_hat = x_hat_seq[t]\n",
    "        Σt = Σ_hat_seq[t]\n",
    "        μ = np.hstack([xt_hat, G @ xt_hat])\n",
    "        Σ = np.block([[Σt, Σt @ G.T], [G @ Σt, G @ Σt @ G.T + R]])\n",
    "\n",
    "        # filtering\n",
    "        multi_normal = MultivariateNormal(μ, Σ)\n",
    "        multi_normal.partition(n)\n",
    "        x_tilde, Σ_tilde = multi_normal.cond_dist(0, y_seq[t])\n",
    "\n",
    "        # forecasting\n",
    "        x_hat_seq[t+1] = A @ x_tilde\n",
    "        Σ_hat_seq[t+1] = C @ C.T + A @ Σ_tilde @ A.T\n",
    "\n",
    "    return x_hat_seq, Σ_hat_seq"
   ]
  },
  {
   "cell_type": "code",
   "execution_count": 87,
   "id": "56f553f0",
   "metadata": {},
   "outputs": [
    {
     "data": {
      "text/plain": [
       "(array([[0.        , 1.        ],\n",
       "        [0.1215625 , 0.24875   ],\n",
       "        [0.18680212, 0.06904689],\n",
       "        [0.75576875, 0.05558463]]),\n",
       " array([[[1.        , 0.5       ],\n",
       "         [0.3       , 2.        ]],\n",
       " \n",
       "        [[4.12874554, 1.95523214],\n",
       "         [1.92123214, 1.04592857]],\n",
       " \n",
       "        [[4.08198663, 1.99218488],\n",
       "         [1.98640488, 1.00886423]],\n",
       " \n",
       "        [[4.06457628, 2.00041999],\n",
       "         [1.99943739, 1.00275526]]]))"
      ]
     },
     "execution_count": 87,
     "metadata": {},
     "output_type": "execute_result"
    }
   ],
   "source": [
    "iterate(x0_hat, Σ0, A, C, G, R, [2.3, 1.2, 3.2])"
   ]
  },
  {
   "cell_type": "code",
   "execution_count": 88,
   "id": "35041359",
   "metadata": {},
   "outputs": [],
   "source": [
    "N = 10\n",
    "k = 2"
   ]
  },
  {
   "cell_type": "code",
   "execution_count": 89,
   "id": "032531e5",
   "metadata": {},
   "outputs": [],
   "source": [
    "Λ = np.zeros((N, k))\n",
    "Λ[:N//2, 0] = 1\n",
    "Λ[N//2:, 1] = 1\n",
    "\n",
    "σu = .5\n",
    "D = np.eye(N) * σu ** 2"
   ]
  },
  {
   "cell_type": "code",
   "execution_count": 90,
   "id": "1ad8534d",
   "metadata": {},
   "outputs": [],
   "source": [
    "# compute Σy\n",
    "Σy = Λ @ Λ.T + D"
   ]
  },
  {
   "cell_type": "code",
   "execution_count": 91,
   "id": "5002ac42",
   "metadata": {},
   "outputs": [],
   "source": [
    "μz = np.zeros(k+N)\n",
    "\n",
    "Σz = np.empty((k+N, k+N))\n",
    "\n",
    "Σz[:k, :k] = np.eye(k)\n",
    "Σz[:k, k:] = Λ.T\n",
    "Σz[k:, :k] = Λ\n",
    "Σz[k:, k:] = Σy"
   ]
  },
  {
   "cell_type": "code",
   "execution_count": 92,
   "id": "a5785d6a",
   "metadata": {},
   "outputs": [],
   "source": [
    "z = np.random.multivariate_normal(μz, Σz)\n",
    "\n",
    "f = z[:k]\n",
    "y = z[k:]"
   ]
  },
  {
   "cell_type": "code",
   "execution_count": 93,
   "id": "3c08d74a",
   "metadata": {},
   "outputs": [],
   "source": [
    "multi_normal_factor = MultivariateNormal(μz, Σz)\n",
    "multi_normal_factor.partition(k)"
   ]
  },
  {
   "cell_type": "code",
   "execution_count": 94,
   "id": "e972122a",
   "metadata": {},
   "outputs": [
    {
     "data": {
      "text/plain": [
       "(array([0.33303933, 1.60199065]),\n",
       " array([[0.04761905, 0.        ],\n",
       "        [0.        , 0.04761905]]))"
      ]
     },
     "execution_count": 94,
     "metadata": {},
     "output_type": "execute_result"
    }
   ],
   "source": [
    "multi_normal_factor.cond_dist(0, y)"
   ]
  },
  {
   "cell_type": "code",
   "execution_count": 95,
   "id": "d0ffbd5d",
   "metadata": {},
   "outputs": [
    {
     "data": {
      "text/plain": [
       "array([0.33303933, 1.60199065])"
      ]
     },
     "execution_count": 95,
     "metadata": {},
     "output_type": "execute_result"
    }
   ],
   "source": [
    "B = Λ.T @ np.linalg.inv(Σy)\n",
    "\n",
    "B @ y"
   ]
  },
  {
   "cell_type": "code",
   "execution_count": 96,
   "id": "879f4b64",
   "metadata": {},
   "outputs": [
    {
     "data": {
      "text/plain": [
       "(array([0.30771784, 0.30771784, 0.30771784, 0.30771784, 0.30771784,\n",
       "        1.42701043, 1.42701043, 1.42701043, 1.42701043, 1.42701043]),\n",
       " array([[0.25, 0.  , 0.  , 0.  , 0.  , 0.  , 0.  , 0.  , 0.  , 0.  ],\n",
       "        [0.  , 0.25, 0.  , 0.  , 0.  , 0.  , 0.  , 0.  , 0.  , 0.  ],\n",
       "        [0.  , 0.  , 0.25, 0.  , 0.  , 0.  , 0.  , 0.  , 0.  , 0.  ],\n",
       "        [0.  , 0.  , 0.  , 0.25, 0.  , 0.  , 0.  , 0.  , 0.  , 0.  ],\n",
       "        [0.  , 0.  , 0.  , 0.  , 0.25, 0.  , 0.  , 0.  , 0.  , 0.  ],\n",
       "        [0.  , 0.  , 0.  , 0.  , 0.  , 0.25, 0.  , 0.  , 0.  , 0.  ],\n",
       "        [0.  , 0.  , 0.  , 0.  , 0.  , 0.  , 0.25, 0.  , 0.  , 0.  ],\n",
       "        [0.  , 0.  , 0.  , 0.  , 0.  , 0.  , 0.  , 0.25, 0.  , 0.  ],\n",
       "        [0.  , 0.  , 0.  , 0.  , 0.  , 0.  , 0.  , 0.  , 0.25, 0.  ],\n",
       "        [0.  , 0.  , 0.  , 0.  , 0.  , 0.  , 0.  , 0.  , 0.  , 0.25]]))"
      ]
     },
     "execution_count": 96,
     "metadata": {},
     "output_type": "execute_result"
    }
   ],
   "source": [
    "multi_normal_factor.cond_dist(1, f)"
   ]
  },
  {
   "cell_type": "code",
   "execution_count": 97,
   "id": "0796a311",
   "metadata": {},
   "outputs": [
    {
     "data": {
      "text/plain": [
       "array([0.30771784, 0.30771784, 0.30771784, 0.30771784, 0.30771784,\n",
       "       1.42701043, 1.42701043, 1.42701043, 1.42701043, 1.42701043])"
      ]
     },
     "execution_count": 97,
     "metadata": {},
     "output_type": "execute_result"
    }
   ],
   "source": [
    "Λ @ f"
   ]
  },
  {
   "cell_type": "code",
   "execution_count": 98,
   "id": "fbed7718",
   "metadata": {},
   "outputs": [
    {
     "name": "stdout",
     "output_type": "stream",
     "text": [
      "𝜆_tilde = [5.25 5.25 0.25 0.25 0.25 0.25 0.25 0.25 0.25 0.25]\n"
     ]
    }
   ],
   "source": [
    "𝜆_tilde, P = np.linalg.eigh(Σy)\n",
    "\n",
    "# arrange the eigenvectors by eigenvalues\n",
    "ind = sorted(range(N), key=lambda x: 𝜆_tilde[x], reverse=True)\n",
    "\n",
    "P = P[:, ind]\n",
    "𝜆_tilde = 𝜆_tilde[ind]\n",
    "Λ_tilde = np.diag(𝜆_tilde)\n",
    "\n",
    "print('𝜆_tilde =', 𝜆_tilde)"
   ]
  },
  {
   "cell_type": "code",
   "execution_count": 99,
   "id": "511bbac8",
   "metadata": {},
   "outputs": [
    {
     "data": {
      "text/plain": [
       "4.440892098500626e-16"
      ]
     },
     "execution_count": 99,
     "metadata": {},
     "output_type": "execute_result"
    }
   ],
   "source": [
    "# verify the orthogonality of eigenvectors\n",
    "np.abs(P @ P.T - np.eye(N)).max()"
   ]
  },
  {
   "cell_type": "code",
   "execution_count": 100,
   "id": "33aa52fd",
   "metadata": {},
   "outputs": [
    {
     "data": {
      "text/plain": [
       "array([[1.25, 1.  , 1.  , 1.  , 1.  , 0.  , 0.  , 0.  , 0.  , 0.  ],\n",
       "       [1.  , 1.25, 1.  , 1.  , 1.  , 0.  , 0.  , 0.  , 0.  , 0.  ],\n",
       "       [1.  , 1.  , 1.25, 1.  , 1.  , 0.  , 0.  , 0.  , 0.  , 0.  ],\n",
       "       [1.  , 1.  , 1.  , 1.25, 1.  , 0.  , 0.  , 0.  , 0.  , 0.  ],\n",
       "       [1.  , 1.  , 1.  , 1.  , 1.25, 0.  , 0.  , 0.  , 0.  , 0.  ],\n",
       "       [0.  , 0.  , 0.  , 0.  , 0.  , 1.25, 1.  , 1.  , 1.  , 1.  ],\n",
       "       [0.  , 0.  , 0.  , 0.  , 0.  , 1.  , 1.25, 1.  , 1.  , 1.  ],\n",
       "       [0.  , 0.  , 0.  , 0.  , 0.  , 1.  , 1.  , 1.25, 1.  , 1.  ],\n",
       "       [0.  , 0.  , 0.  , 0.  , 0.  , 1.  , 1.  , 1.  , 1.25, 1.  ],\n",
       "       [0.  , 0.  , 0.  , 0.  , 0.  , 1.  , 1.  , 1.  , 1.  , 1.25]])"
      ]
     },
     "execution_count": 100,
     "metadata": {},
     "output_type": "execute_result"
    }
   ],
   "source": [
    "# verify the eigenvalue decomposition is correct\n",
    "P @ Λ_tilde @ P.T"
   ]
  },
  {
   "cell_type": "code",
   "execution_count": 101,
   "id": "e4e2ef56",
   "metadata": {},
   "outputs": [
    {
     "name": "stdout",
     "output_type": "stream",
     "text": [
      "ε =  [ 3.76126799  0.78193352 -0.34445602 -0.28389907  0.08150635 -0.12942721\n",
      "  0.31955534  0.24253848  0.45712392  0.34348855]\n"
     ]
    }
   ],
   "source": [
    "ε = P.T @ y\n",
    "\n",
    "print(\"ε = \", ε)"
   ]
  },
  {
   "cell_type": "code",
   "execution_count": 102,
   "id": "933c9c1e",
   "metadata": {},
   "outputs": [
    {
     "name": "stdout",
     "output_type": "stream",
     "text": [
      "f =  [0.30771784 1.42701043]\n"
     ]
    }
   ],
   "source": [
    "# print the values of the two factors\n",
    "\n",
    "print('f = ', f)"
   ]
  },
  {
   "cell_type": "code",
   "execution_count": 103,
   "id": "a1996c16",
   "metadata": {},
   "outputs": [
    {
     "data": {
      "image/png": "[encoded data removed]",
      "text/plain": [
       "<Figure size 1100x500 with 1 Axes>"
      ]
     },
     "metadata": {},
     "output_type": "display_data"
    }
   ],
   "source": [
    "plt.scatter(range(N), y, label='y')\n",
    "plt.scatter(range(N), ε, label='$\\epsilon$')\n",
    "plt.hlines(f[0], 0, N//2-1, ls='--', label='$f_{1}$')\n",
    "plt.hlines(f[1], N//2, N-1, ls='-.', label='$f_{2}$')\n",
    "plt.legend()\n",
    "\n",
    "plt.show()"
   ]
  },
  {
   "cell_type": "code",
   "execution_count": 104,
   "id": "53a60e95",
   "metadata": {},
   "outputs": [
    {
     "data": {
      "text/plain": [
       "array([3.76126799, 0.78193352])"
      ]
     },
     "execution_count": 104,
     "metadata": {},
     "output_type": "execute_result"
    }
   ],
   "source": [
    "ε[:2]"
   ]
  },
  {
   "cell_type": "code",
   "execution_count": 105,
   "id": "4065db07",
   "metadata": {},
   "outputs": [
    {
     "data": {
      "text/plain": [
       "array([0.33303933, 1.60199065])"
      ]
     },
     "execution_count": 105,
     "metadata": {},
     "output_type": "execute_result"
    }
   ],
   "source": [
    "# compare with Ef|y\n",
    "B @ y"
   ]
  },
  {
   "cell_type": "code",
   "execution_count": 106,
   "id": "08474e19",
   "metadata": {},
   "outputs": [
    {
     "data": {
      "text/plain": [
       "0.8400000000000002"
      ]
     },
     "execution_count": 106,
     "metadata": {},
     "output_type": "execute_result"
    }
   ],
   "source": [
    "𝜆_tilde[:2].sum() / 𝜆_tilde.sum()"
   ]
  },
  {
   "cell_type": "code",
   "execution_count": 107,
   "id": "c0bb51a5",
   "metadata": {},
   "outputs": [],
   "source": [
    "y_hat = P[:, :2] @ ε[:2]"
   ]
  },
  {
   "cell_type": "code",
   "execution_count": 108,
   "id": "30a35a50",
   "metadata": {},
   "outputs": [
    {
     "data": {
      "image/png": "[encoded data removed]",
      "text/plain": [
       "<Figure size 1100x500 with 1 Axes>"
      ]
     },
     "metadata": {},
     "output_type": "display_data"
    }
   ],
   "source": [
    "plt.scatter(range(N), Λ @ f, label='$Ey|f$')\n",
    "plt.scatter(range(N), y_hat, label='$\\hat{y}$')\n",
    "plt.hlines(f[0], 0, N//2-1, ls='--', label='$f_{1}$')\n",
    "plt.hlines(f[1], N//2, N-1, ls='-.', label='$f_{2}$')\n",
    "\n",
    "Efy = B @ y\n",
    "plt.hlines(Efy[0], 0, N//2-1, ls='--', color='b', label='$Ef_{1}|y$')\n",
    "plt.hlines(Efy[1], N//2, N-1, ls='-.', color='b', label='$Ef_{2}|y$')\n",
    "plt.legend()\n",
    "\n",
    "plt.show()"
   ]
  },
  {
   "cell_type": "code",
   "execution_count": 109,
   "id": "e8a5facd",
   "metadata": {},
   "outputs": [
    {
     "name": "stdout",
     "output_type": "stream",
     "text": [
      "Σy_hat = \n",
      " [[1.05 1.05 1.05 1.05 1.05 0.   0.   0.   0.   0.  ]\n",
      " [1.05 1.05 1.05 1.05 1.05 0.   0.   0.   0.   0.  ]\n",
      " [1.05 1.05 1.05 1.05 1.05 0.   0.   0.   0.   0.  ]\n",
      " [1.05 1.05 1.05 1.05 1.05 0.   0.   0.   0.   0.  ]\n",
      " [1.05 1.05 1.05 1.05 1.05 0.   0.   0.   0.   0.  ]\n",
      " [0.   0.   0.   0.   0.   1.05 1.05 1.05 1.05 1.05]\n",
      " [0.   0.   0.   0.   0.   1.05 1.05 1.05 1.05 1.05]\n",
      " [0.   0.   0.   0.   0.   1.05 1.05 1.05 1.05 1.05]\n",
      " [0.   0.   0.   0.   0.   1.05 1.05 1.05 1.05 1.05]\n",
      " [0.   0.   0.   0.   0.   1.05 1.05 1.05 1.05 1.05]]\n"
     ]
    }
   ],
   "source": [
    "Σεjk = (P.T @ Σy @ P)[:2, :2]\n",
    "\n",
    "Pjk = P[:, :2]\n",
    "\n",
    "Σy_hat = Pjk @ Σεjk @ Pjk.T\n",
    "print('Σy_hat = \\n', Σy_hat)"
   ]
  }
 ],
 "metadata": {
  "jupytext": {
   "text_representation": {
    "extension": ".md",
    "format_name": "myst"
   }
  },
  "kernelspec": {
   "display_name": "Python 3",
   "language": "python",
   "name": "python3"
  },
  "language_info": {
   "codemirror_mode": {
    "name": "ipython",
    "version": 3
   },
   "file_extension": ".py",
   "mimetype": "text/x-python",
   "name": "python",
   "nbconvert_exporter": "python",
   "pygments_lexer": "ipython3",
   "version": "3.9.17"
  },
  "source_map": [
   10,
   63,
   70,
   87,
   113,
   181,
   250,
   281,
   289,
   295,
   327,
   336,
   343,
   346,
   350,
   353,
   360,
   393,
   399,
   402,
   408,
   411,
   427,
   434,
   440,
   447,
   469,
   480,
   485,
   487,
   492,
   494,
   499,
   501,
   515,
   523,
   527,
   530,
   535,
   542,
   549,
   552,
   558,
   562,
   566,
   568,
   660,
   672,
   683,
   689,
   699,
   704,
   712,
   718,
   721,
   731,
   734,
   748,
   772,
   788,
   899,
   906,
   912,
   921,
   926,
   929,
   1008,
   1028,
   1032,
   1041,
   1051,
   1056,
   1063,
   1071,
   1081,
   1085,
   1096,
   1194,
   1199,
   1210,
   1222,
   1226,
   1234,
   1244,
   1248,
   1251,
   1259,
   1264,
   1278,
   1285,
   1290,
   1298,
   1311,
   1315,
   1328,
   1332,
   1337,
   1341,
   1353,
   1358,
   1368,
   1372,
   1377,
   1381,
   1398,
   1404,
   1410,
   1412,
   1508,
   1526,
   1542,
   1551,
   1561,
   1604,
   1608,
   1614,
   1640,
   1644,
   1647,
   1653,
   1658,
   1673,
   1682,
   1888,
   1899,
   1904,
   1908,
   1917,
   1925,
   1932,
   1962,
   1964,
   2031,
   2034,
   2062,
   2071,
   2074,
   2079,
   2090,
   2097,
   2100,
   2105,
   2107,
   2113,
   2117,
   2121,
   2123,
   2128,
   2130,
   2174,
   2187,
   2192,
   2197,
   2203,
   2207,
   2220,
   2228,
   2235,
   2239,
   2242,
   2247,
   2249,
   2260,
   2262,
   2272,
   2284,
   2290
  ]
 },
 "nbformat": 4,
 "nbformat_minor": 5
}