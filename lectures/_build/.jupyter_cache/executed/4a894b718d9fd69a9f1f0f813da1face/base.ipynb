{
 "cells": [
  {
   "cell_type": "code",
   "execution_count": 1,
   "id": "571219b1",
   "metadata": {},
   "outputs": [],
   "source": [
    "import matplotlib.pyplot as plt\n",
    "plt.rcParams[\"figure.figsize\"] = (11, 5)  #set default figure size\n",
    "import numpy as np\n",
    "from numba import njit\n",
    "import statsmodels.api as sm"
   ]
  },
  {
   "cell_type": "code",
   "execution_count": 2,
   "id": "7054d21e",
   "metadata": {},
   "outputs": [],
   "source": [
    "@njit\n",
    "def f(z, μ, Σ):\n",
    "    \"\"\"\n",
    "    The density function of multivariate normal distribution.\n",
    "\n",
    "    Parameters\n",
    "    ---------------\n",
    "    z: ndarray(float, dim=2)\n",
    "        random vector, N by 1\n",
    "    μ: ndarray(float, dim=1 or 2)\n",
    "        the mean of z, N by 1\n",
    "    Σ: ndarray(float, dim=2)\n",
    "        the covarianece matrix of z, N by 1\n",
    "    \"\"\"\n",
    "\n",
    "    z = np.atleast_2d(z)\n",
    "    μ = np.atleast_2d(μ)\n",
    "    Σ = np.atleast_2d(Σ)\n",
    "\n",
    "    N = z.size\n",
    "\n",
    "    temp1 = np.linalg.det(Σ) ** (-1/2)\n",
    "    temp2 = np.exp(-.5 * (z - μ).T @ np.linalg.inv(Σ) @ (z - μ))\n",
    "\n",
    "    return (2 * np.pi) ** (-N/2) * temp1 * temp2"
   ]
  },
  {
   "cell_type": "code",
   "execution_count": 3,
   "id": "b9a8164a",
   "metadata": {},
   "outputs": [],
   "source": [
    "class MultivariateNormal:\n",
    "    \"\"\"\n",
    "    Class of multivariate normal distribution.\n",
    "\n",
    "    Parameters\n",
    "    ----------\n",
    "    μ: ndarray(float, dim=1)\n",
    "        the mean of z, N by 1\n",
    "    Σ: ndarray(float, dim=2)\n",
    "        the covarianece matrix of z, N by 1\n",
    "\n",
    "    Arguments\n",
    "    ---------\n",
    "    μ, Σ:\n",
    "        see parameters\n",
    "    μs: list(ndarray(float, dim=1))\n",
    "        list of mean vectors μ1 and μ2 in order\n",
    "    Σs: list(list(ndarray(float, dim=2)))\n",
    "        2 dimensional list of covariance matrices\n",
    "        Σ11, Σ12, Σ21, Σ22 in order\n",
    "    βs: list(ndarray(float, dim=1))\n",
    "        list of regression coefficients β1 and β2 in order\n",
    "    \"\"\"\n",
    "\n",
    "    def __init__(self, μ, Σ):\n",
    "        \"initialization\"\n",
    "        self.μ = np.array(μ)\n",
    "        self.Σ = np.atleast_2d(Σ)\n",
    "\n",
    "    def partition(self, k):\n",
    "        \"\"\"\n",
    "        Given k, partition the random vector z into a size k vector z1\n",
    "        and a size N-k vector z2. Partition the mean vector μ into\n",
    "        μ1 and μ2, and the covariance matrix Σ into Σ11, Σ12, Σ21, Σ22\n",
    "        correspondingly. Compute the regression coefficients β1 and β2\n",
    "        using the partitioned arrays.\n",
    "        \"\"\"\n",
    "        μ = self.μ\n",
    "        Σ = self.Σ\n",
    "\n",
    "        self.μs = [μ[:k], μ[k:]]\n",
    "        self.Σs = [[Σ[:k, :k], Σ[:k, k:]],\n",
    "                   [Σ[k:, :k], Σ[k:, k:]]]\n",
    "\n",
    "        self.βs = [self.Σs[0][1] @ np.linalg.inv(self.Σs[1][1]),\n",
    "                   self.Σs[1][0] @ np.linalg.inv(self.Σs[0][0])]\n",
    "\n",
    "    def cond_dist(self, ind, z):\n",
    "        \"\"\"\n",
    "        Compute the conditional distribution of z1 given z2, or reversely.\n",
    "        Argument ind determines whether we compute the conditional\n",
    "        distribution of z1 (ind=0) or z2 (ind=1).\n",
    "\n",
    "        Returns\n",
    "        ---------\n",
    "        μ_hat: ndarray(float, ndim=1)\n",
    "            The conditional mean of z1 or z2.\n",
    "        Σ_hat: ndarray(float, ndim=2)\n",
    "            The conditional covariance matrix of z1 or z2.\n",
    "        \"\"\"\n",
    "        β = self.βs[ind]\n",
    "        μs = self.μs\n",
    "        Σs = self.Σs\n",
    "\n",
    "        μ_hat = μs[ind] + β @ (z - μs[1-ind])\n",
    "        Σ_hat = Σs[ind][ind] - β @ Σs[1-ind][1-ind] @ β.T\n",
    "\n",
    "        return μ_hat, Σ_hat"
   ]
  },
  {
   "cell_type": "code",
   "execution_count": 4,
   "id": "f2068ca8",
   "metadata": {},
   "outputs": [],
   "source": [
    "μ = np.array([.5, 1.])\n",
    "Σ = np.array([[1., .5], [.5 ,1.]])\n",
    "\n",
    "# construction of the multivariate normal instance\n",
    "multi_normal = MultivariateNormal(μ, Σ)"
   ]
  },
  {
   "cell_type": "code",
   "execution_count": 5,
   "id": "b8458c8d",
   "metadata": {},
   "outputs": [
    {
     "data": {
      "text/plain": [
       "(array([[0.5]]), array([[0.5]]))"
      ]
     },
     "execution_count": 5,
     "metadata": {},
     "output_type": "execute_result"
    }
   ],
   "source": [
    "k = 1 # choose partition\n",
    "\n",
    "# partition and compute regression coefficients\n",
    "multi_normal.partition(k)\n",
    "multi_normal.βs[0],multi_normal.βs[1]"
   ]
  },
  {
   "cell_type": "code",
   "execution_count": 6,
   "id": "26bb3ed5",
   "metadata": {},
   "outputs": [],
   "source": [
    "beta = multi_normal.βs\n",
    "\n",
    "a1 = μ[0] - beta[0]*μ[1]\n",
    "b1 = beta[0]\n",
    "\n",
    "a2 = μ[1] - beta[1]*μ[0]\n",
    "b2 = beta[1]"
   ]
  },
  {
   "cell_type": "code",
   "execution_count": 7,
   "id": "a4d5d97a",
   "metadata": {},
   "outputs": [
    {
     "name": "stdout",
     "output_type": "stream",
     "text": [
      "a1 =  [[0.]]\n",
      "b1 =  [[0.5]]\n"
     ]
    }
   ],
   "source": [
    "print (\"a1 = \", a1)\n",
    "print (\"b1 = \", b1)"
   ]
  },
  {
   "cell_type": "code",
   "execution_count": 8,
   "id": "d698b984",
   "metadata": {},
   "outputs": [
    {
     "name": "stdout",
     "output_type": "stream",
     "text": [
      "a2 =  [[0.75]]\n",
      "b2 =  [[0.5]]\n"
     ]
    }
   ],
   "source": [
    "print (\"a2 = \", a2)\n",
    "print (\"b2 = \", b2)"
   ]
  },
  {
   "cell_type": "code",
   "execution_count": 9,
   "id": "54274bae",
   "metadata": {},
   "outputs": [
    {
     "data": {
      "image/png": "[encoded data removed]",
      "text/plain": [
       "<Figure size 1200x1200 with 1 Axes>"
      ]
     },
     "metadata": {},
     "output_type": "display_data"
    }
   ],
   "source": [
    "z2 = np.linspace(-4,4,100)\n",
    "\n",
    "\n",
    "a1 = np.squeeze(a1)\n",
    "b1 = np.squeeze(b1)\n",
    "\n",
    "a2 = np.squeeze(a2)\n",
    "b2 = np.squeeze(b2)\n",
    "\n",
    "z1  = b1*z2 + a1\n",
    "\n",
    "\n",
    "z1h = z2/b2 - a2/b2\n",
    "\n",
    "\n",
    "fig = plt.figure(figsize=(12,12))\n",
    "ax = fig.add_subplot(1, 1, 1)\n",
    "ax.set(xlim=(-4, 4), ylim=(-4, 4))\n",
    "ax.spines['left'].set_position('center')\n",
    "ax.spines['bottom'].set_position('zero')\n",
    "ax.spines['right'].set_color('none')\n",
    "ax.spines['top'].set_color('none')\n",
    "ax.xaxis.set_ticks_position('bottom')\n",
    "ax.yaxis.set_ticks_position('left')\n",
    "plt.ylabel('$z_1$', loc = 'top')\n",
    "plt.xlabel('$z_2$,', loc = 'right')\n",
    "plt.title('two regressions')\n",
    "plt.plot(z2,z1, 'r', label = \"$z_1$ on $z_2$\")\n",
    "plt.plot(z2,z1h, 'b', label = \"$z_2$ on $z_1$\")\n",
    "plt.legend()\n",
    "plt.show()"
   ]
  },
  {
   "cell_type": "code",
   "execution_count": 10,
   "id": "d2c7160d",
   "metadata": {},
   "outputs": [
    {
     "name": "stdout",
     "output_type": "stream",
     "text": [
      "a1 =  0.0\n",
      "b1 =  0.5\n"
     ]
    }
   ],
   "source": [
    "print(\"a1 = \", a1)\n",
    "print(\"b1 = \", b1)"
   ]
  },
  {
   "cell_type": "code",
   "execution_count": 11,
   "id": "7959a5fd",
   "metadata": {},
   "outputs": [
    {
     "name": "stdout",
     "output_type": "stream",
     "text": [
      "-a2/b2 =  -1.5\n",
      "1/b2 =  2.0\n"
     ]
    }
   ],
   "source": [
    "print(\"-a2/b2 = \", - a2/b2)\n",
    "print(\"1/b2 = \", 1/b2)"
   ]
  },
  {
   "cell_type": "code",
   "execution_count": 12,
   "id": "3a4532f1",
   "metadata": {},
   "outputs": [
    {
     "name": "stdout",
     "output_type": "stream",
     "text": [
      "μ2_hat, Σ2_hat =  [3.25] [[0.75]]\n"
     ]
    }
   ],
   "source": [
    "# compute the cond. dist. of z1\n",
    "ind = 1\n",
    "z1 = np.array([5.]) # given z1\n",
    "\n",
    "μ2_hat, Σ2_hat = multi_normal.cond_dist(ind, z1)\n",
    "print('μ2_hat, Σ2_hat = ', μ2_hat, Σ2_hat)"
   ]
  },
  {
   "cell_type": "code",
   "execution_count": 13,
   "id": "00ce18ad",
   "metadata": {},
   "outputs": [
    {
     "name": "stdout",
     "output_type": "stream",
     "text": [
      "μ1_hat, Σ1_hat =  [2.5] [[0.75]]\n"
     ]
    }
   ],
   "source": [
    "# compute the cond. dist. of z1\n",
    "ind = 0\n",
    "z2 = np.array([5.]) # given z2\n",
    "\n",
    "μ1_hat, Σ1_hat = multi_normal.cond_dist(ind, z2)\n",
    "print('μ1_hat, Σ1_hat = ', μ1_hat, Σ1_hat)"
   ]
  },
  {
   "cell_type": "code",
   "execution_count": 14,
   "id": "00f20ab5",
   "metadata": {},
   "outputs": [],
   "source": [
    "n = 1_000_000 # sample size\n",
    "\n",
    "# simulate multivariate normal random vectors\n",
    "data = np.random.multivariate_normal(μ, Σ, size=n)\n",
    "z1_data = data[:, 0]\n",
    "z2_data = data[:, 1]\n",
    "\n",
    "# OLS regression\n",
    "μ1, μ2 = multi_normal.μs\n",
    "results = sm.OLS(z1_data - μ1, z2_data - μ2).fit()"
   ]
  },
  {
   "cell_type": "code",
   "execution_count": 15,
   "id": "979391b0",
   "metadata": {},
   "outputs": [
    {
     "data": {
      "text/plain": [
       "(array([[0.5]]), array([0.50081614]))"
      ]
     },
     "execution_count": 15,
     "metadata": {},
     "output_type": "execute_result"
    }
   ],
   "source": [
    "multi_normal.βs[0], results.params"
   ]
  },
  {
   "cell_type": "code",
   "execution_count": 16,
   "id": "6f566ce2",
   "metadata": {},
   "outputs": [
    {
     "data": {
      "text/plain": [
       "(array([[0.75]]), 0.7505173364615084)"
      ]
     },
     "execution_count": 16,
     "metadata": {},
     "output_type": "execute_result"
    }
   ],
   "source": [
    "Σ1_hat, results.resid @ results.resid.T / (n - 1)"
   ]
  },
  {
   "cell_type": "code",
   "execution_count": 17,
   "id": "c97f2a0b",
   "metadata": {},
   "outputs": [
    {
     "data": {
      "text/plain": [
       "(array([2.5]), array([2.50326456]))"
      ]
     },
     "execution_count": 17,
     "metadata": {},
     "output_type": "execute_result"
    }
   ],
   "source": [
    "μ1_hat, results.predict(z2 - μ2) + μ1"
   ]
  },
  {
   "cell_type": "code",
   "execution_count": 18,
   "id": "4b71f7e2",
   "metadata": {},
   "outputs": [],
   "source": [
    "μ = np.random.random(3)\n",
    "C = np.random.random((3, 3))\n",
    "Σ = C @ C.T # positive semi-definite\n",
    "\n",
    "multi_normal = MultivariateNormal(μ, Σ)"
   ]
  },
  {
   "cell_type": "code",
   "execution_count": 19,
   "id": "04a6bfe6",
   "metadata": {},
   "outputs": [
    {
     "data": {
      "text/plain": [
       "(array([0.70104441, 0.27024756, 0.26236027]),\n",
       " array([[0.84738474, 0.52577963, 1.06540156],\n",
       "        [0.52577963, 0.66684744, 1.15168643],\n",
       "        [1.06540156, 1.15168643, 2.23520061]]))"
      ]
     },
     "execution_count": 19,
     "metadata": {},
     "output_type": "execute_result"
    }
   ],
   "source": [
    "μ, Σ"
   ]
  },
  {
   "cell_type": "code",
   "execution_count": 20,
   "id": "3eca4830",
   "metadata": {},
   "outputs": [],
   "source": [
    "k = 1\n",
    "multi_normal.partition(k)"
   ]
  },
  {
   "cell_type": "code",
   "execution_count": 21,
   "id": "687a7bac",
   "metadata": {},
   "outputs": [],
   "source": [
    "ind = 0\n",
    "z2 = np.array([2., 5.])\n",
    "\n",
    "μ1_hat, Σ1_hat = multi_normal.cond_dist(ind, z2)"
   ]
  },
  {
   "cell_type": "code",
   "execution_count": 22,
   "id": "bb9551df",
   "metadata": {},
   "outputs": [],
   "source": [
    "n = 1_000_000\n",
    "data = np.random.multivariate_normal(μ, Σ, size=n)\n",
    "z1_data = data[:, :k]\n",
    "z2_data = data[:, k:]"
   ]
  },
  {
   "cell_type": "code",
   "execution_count": 23,
   "id": "8f2c636f",
   "metadata": {},
   "outputs": [],
   "source": [
    "μ1, μ2 = multi_normal.μs\n",
    "results = sm.OLS(z1_data - μ1, z2_data - μ2).fit()"
   ]
  },
  {
   "cell_type": "code",
   "execution_count": 24,
   "id": "c82fe259",
   "metadata": {},
   "outputs": [
    {
     "data": {
      "text/plain": [
       "(array([[-0.3154653 ,  0.63919035]]), array([-0.3176332 ,  0.64049458]))"
      ]
     },
     "execution_count": 24,
     "metadata": {},
     "output_type": "execute_result"
    }
   ],
   "source": [
    "multi_normal.βs[0], results.params"
   ]
  },
  {
   "cell_type": "code",
   "execution_count": 25,
   "id": "31d27b47",
   "metadata": {},
   "outputs": [
    {
     "data": {
      "text/plain": [
       "(array([[0.33225557]]), 0.33284981991725127)"
      ]
     },
     "execution_count": 25,
     "metadata": {},
     "output_type": "execute_result"
    }
   ],
   "source": [
    "Σ1_hat, results.resid @ results.resid.T / (n - 1)"
   ]
  },
  {
   "cell_type": "code",
   "execution_count": 26,
   "id": "11087f6a",
   "metadata": {},
   "outputs": [
    {
     "data": {
      "text/plain": [
       "(array([3.18362114]), array([3.1860502]))"
      ]
     },
     "execution_count": 26,
     "metadata": {},
     "output_type": "execute_result"
    }
   ],
   "source": [
    "μ1_hat, results.predict(z2 - μ2) + μ1"
   ]
  },
  {
   "cell_type": "code",
   "execution_count": 27,
   "id": "79b924de",
   "metadata": {},
   "outputs": [],
   "source": [
    "def construct_moments_IQ(n, μθ, σθ, σy):\n",
    "\n",
    "    μ_IQ = np.full(n+1, μθ)\n",
    "\n",
    "    D_IQ = np.zeros((n+1, n+1))\n",
    "    D_IQ[range(n), range(n)] = σy\n",
    "    D_IQ[:, n] = σθ\n",
    "\n",
    "    Σ_IQ = D_IQ @ D_IQ.T\n",
    "\n",
    "    return μ_IQ, Σ_IQ, D_IQ"
   ]
  },
  {
   "cell_type": "code",
   "execution_count": 28,
   "id": "b14f1362",
   "metadata": {},
   "outputs": [
    {
     "data": {
      "text/plain": [
       "(array([100., 100., 100., 100., 100., 100., 100., 100., 100., 100., 100.,\n",
       "        100., 100., 100., 100., 100., 100., 100., 100., 100., 100., 100.,\n",
       "        100., 100., 100., 100., 100., 100., 100., 100., 100., 100., 100.,\n",
       "        100., 100., 100., 100., 100., 100., 100., 100., 100., 100., 100.,\n",
       "        100., 100., 100., 100., 100., 100., 100.]),\n",
       " array([[200., 100., 100., ..., 100., 100., 100.],\n",
       "        [100., 200., 100., ..., 100., 100., 100.],\n",
       "        [100., 100., 200., ..., 100., 100., 100.],\n",
       "        ...,\n",
       "        [100., 100., 100., ..., 200., 100., 100.],\n",
       "        [100., 100., 100., ..., 100., 200., 100.],\n",
       "        [100., 100., 100., ..., 100., 100., 100.]]),\n",
       " array([[10.,  0.,  0., ...,  0.,  0., 10.],\n",
       "        [ 0., 10.,  0., ...,  0.,  0., 10.],\n",
       "        [ 0.,  0., 10., ...,  0.,  0., 10.],\n",
       "        ...,\n",
       "        [ 0.,  0.,  0., ..., 10.,  0., 10.],\n",
       "        [ 0.,  0.,  0., ...,  0., 10., 10.],\n",
       "        [ 0.,  0.,  0., ...,  0.,  0., 10.]]))"
      ]
     },
     "execution_count": 28,
     "metadata": {},
     "output_type": "execute_result"
    }
   ],
   "source": [
    "n = 50\n",
    "μθ, σθ, σy = 100., 10., 10.\n",
    "\n",
    "μ_IQ, Σ_IQ, D_IQ = construct_moments_IQ(n, μθ, σθ, σy)\n",
    "μ_IQ, Σ_IQ, D_IQ"
   ]
  },
  {
   "cell_type": "code",
   "execution_count": 29,
   "id": "d9abd8b8",
   "metadata": {},
   "outputs": [],
   "source": [
    "multi_normal_IQ = MultivariateNormal(μ_IQ, Σ_IQ)\n",
    "\n",
    "k = n\n",
    "multi_normal_IQ.partition(k)"
   ]
  },
  {
   "cell_type": "code",
   "execution_count": 30,
   "id": "b3ac65f9",
   "metadata": {},
   "outputs": [],
   "source": [
    "x = np.random.multivariate_normal(μ_IQ, Σ_IQ)\n",
    "y = x[:-1] # test scores\n",
    "θ = x[-1]  # IQ"
   ]
  },
  {
   "cell_type": "code",
   "execution_count": 31,
   "id": "a8123da7",
   "metadata": {},
   "outputs": [
    {
     "data": {
      "text/plain": [
       "92.08656670315838"
      ]
     },
     "execution_count": 31,
     "metadata": {},
     "output_type": "execute_result"
    }
   ],
   "source": [
    "# the true value\n",
    "θ"
   ]
  },
  {
   "cell_type": "code",
   "execution_count": 32,
   "id": "f5464024",
   "metadata": {},
   "outputs": [
    {
     "data": {
      "text/plain": [
       "(array([90.64931942]), array([[1.96078431]]))"
      ]
     },
     "execution_count": 32,
     "metadata": {},
     "output_type": "execute_result"
    }
   ],
   "source": [
    "ind = 1\n",
    "multi_normal_IQ.cond_dist(ind, y)"
   ]
  },
  {
   "cell_type": "code",
   "execution_count": 33,
   "id": "9bb378ff",
   "metadata": {},
   "outputs": [],
   "source": [
    "# array for containing moments\n",
    "μθ_hat_arr = np.empty(n)\n",
    "Σθ_hat_arr = np.empty(n)\n",
    "\n",
    "# loop over number of test scores\n",
    "for i in range(1, n+1):\n",
    "    # construction of multivariate normal distribution instance\n",
    "    μ_IQ_i, Σ_IQ_i, D_IQ_i = construct_moments_IQ(i, μθ, σθ, σy)\n",
    "    multi_normal_IQ_i = MultivariateNormal(μ_IQ_i, Σ_IQ_i)\n",
    "\n",
    "    # partition and compute conditional distribution\n",
    "    multi_normal_IQ_i.partition(i)\n",
    "    scores_i = y[:i]\n",
    "    μθ_hat_i, Σθ_hat_i = multi_normal_IQ_i.cond_dist(1, scores_i)\n",
    "\n",
    "    # store the results\n",
    "    μθ_hat_arr[i-1] = μθ_hat_i[0]\n",
    "    Σθ_hat_arr[i-1] = Σθ_hat_i[0, 0]\n",
    "\n",
    "# transform variance to standard deviation\n",
    "σθ_hat_arr = np.sqrt(Σθ_hat_arr)"
   ]
  },
  {
   "cell_type": "code",
   "execution_count": 34,
   "id": "b915ffe7",
   "metadata": {},
   "outputs": [
    {
     "data": {
      "image/png": "[encoded data removed]",
      "text/plain": [
       "<Figure size 1100x500 with 1 Axes>"
      ]
     },
     "metadata": {},
     "output_type": "display_data"
    }
   ],
   "source": [
    "μθ_hat_lower = μθ_hat_arr - 1.96 * σθ_hat_arr\n",
    "μθ_hat_higher = μθ_hat_arr + 1.96 * σθ_hat_arr\n",
    "\n",
    "plt.hlines(θ, 1, n+1, ls='--', label='true $θ$')\n",
    "plt.plot(range(1, n+1), μθ_hat_arr, color='b', label='$\\hat{μ}_{θ}$')\n",
    "plt.plot(range(1, n+1), μθ_hat_lower, color='b', ls='--')\n",
    "plt.plot(range(1, n+1), μθ_hat_higher, color='b', ls='--')\n",
    "plt.fill_between(range(1, n+1), μθ_hat_lower, μθ_hat_higher,\n",
    "                 color='b', alpha=0.2, label='95%')\n",
    "\n",
    "plt.xlabel('number of test scores')\n",
    "plt.ylabel('$\\hat{θ}$')\n",
    "plt.legend()\n",
    "\n",
    "plt.show()"
   ]
  },
  {
   "cell_type": "code",
   "execution_count": 35,
   "id": "b0a43e2b",
   "metadata": {},
   "outputs": [],
   "source": [
    "C = np.linalg.cholesky(Σ_IQ)\n",
    "G = np.linalg.inv(C)\n",
    "\n",
    "ε = G @ (x - μθ)"
   ]
  },
  {
   "cell_type": "code",
   "execution_count": 36,
   "id": "847316cf",
   "metadata": {},
   "outputs": [],
   "source": [
    "cε = C[n, :] * ε\n",
    "\n",
    "# compute the sequence of μθ and Σθ conditional on y1, y2, ..., yk\n",
    "μθ_hat_arr_C = np.array([np.sum(cε[:k+1]) for k in range(n)]) + μθ\n",
    "Σθ_hat_arr_C = np.array([np.sum(C[n, i+1:n+1] ** 2) for i in range(n)])"
   ]
  },
  {
   "cell_type": "code",
   "execution_count": 37,
   "id": "d52610c1",
   "metadata": {},
   "outputs": [
    {
     "data": {
      "text/plain": [
       "True"
      ]
     },
     "execution_count": 37,
     "metadata": {},
     "output_type": "execute_result"
    }
   ],
   "source": [
    "# conditional mean\n",
    "np.max(np.abs(μθ_hat_arr - μθ_hat_arr_C)) < 1e-10"
   ]
  },
  {
   "cell_type": "code",
   "execution_count": 38,
   "id": "f3efeaef",
   "metadata": {},
   "outputs": [
    {
     "data": {
      "text/plain": [
       "True"
      ]
     },
     "execution_count": 38,
     "metadata": {},
     "output_type": "execute_result"
    }
   ],
   "source": [
    "# conditional variance\n",
    "np.max(np.abs(Σθ_hat_arr - Σθ_hat_arr_C)) < 1e-10"
   ]
  },
  {
   "cell_type": "code",
   "execution_count": 39,
   "id": "1e0d3c5e",
   "metadata": {},
   "outputs": [],
   "source": [
    "def construct_moments_IQ2d(n, μθ, σθ, μη, ση, σy):\n",
    "\n",
    "    μ_IQ2d = np.empty(2*(n+1))\n",
    "    μ_IQ2d[:n] = μθ\n",
    "    μ_IQ2d[2*n] = μθ\n",
    "    μ_IQ2d[n:2*n] = μη\n",
    "    μ_IQ2d[2*n+1] = μη\n",
    "\n",
    "\n",
    "    D_IQ2d = np.zeros((2*(n+1), 2*(n+1)))\n",
    "    D_IQ2d[range(2*n), range(2*n)] = σy\n",
    "    D_IQ2d[:n, 2*n] = σθ\n",
    "    D_IQ2d[2*n, 2*n] = σθ\n",
    "    D_IQ2d[n:2*n, 2*n+1] = ση\n",
    "    D_IQ2d[2*n+1, 2*n+1] = ση\n",
    "\n",
    "    Σ_IQ2d = D_IQ2d @ D_IQ2d.T\n",
    "\n",
    "    return μ_IQ2d, Σ_IQ2d, D_IQ2d"
   ]
  },
  {
   "cell_type": "code",
   "execution_count": 40,
   "id": "bc605110",
   "metadata": {},
   "outputs": [
    {
     "data": {
      "text/plain": [
       "(array([100., 100., 100., 100., 100., 100.]),\n",
       " array([[200., 100.,   0.,   0., 100.,   0.],\n",
       "        [100., 200.,   0.,   0., 100.,   0.],\n",
       "        [  0.,   0., 200., 100.,   0., 100.],\n",
       "        [  0.,   0., 100., 200.,   0., 100.],\n",
       "        [100., 100.,   0.,   0., 100.,   0.],\n",
       "        [  0.,   0., 100., 100.,   0., 100.]]),\n",
       " array([[10.,  0.,  0.,  0., 10.,  0.],\n",
       "        [ 0., 10.,  0.,  0., 10.,  0.],\n",
       "        [ 0.,  0., 10.,  0.,  0., 10.],\n",
       "        [ 0.,  0.,  0., 10.,  0., 10.],\n",
       "        [ 0.,  0.,  0.,  0., 10.,  0.],\n",
       "        [ 0.,  0.,  0.,  0.,  0., 10.]]))"
      ]
     },
     "execution_count": 40,
     "metadata": {},
     "output_type": "execute_result"
    }
   ],
   "source": [
    "n = 2\n",
    "# mean and variance of θ, η, and y\n",
    "μθ, σθ, μη, ση, σy = 100., 10., 100., 10, 10\n",
    "\n",
    "μ_IQ2d, Σ_IQ2d, D_IQ2d = construct_moments_IQ2d(n, μθ, σθ, μη, ση, σy)\n",
    "μ_IQ2d, Σ_IQ2d, D_IQ2d"
   ]
  },
  {
   "cell_type": "code",
   "execution_count": 41,
   "id": "793cf84c",
   "metadata": {},
   "outputs": [
    {
     "data": {
      "text/plain": [
       "(101.06907604337245, 112.42438536924284)"
      ]
     },
     "execution_count": 41,
     "metadata": {},
     "output_type": "execute_result"
    }
   ],
   "source": [
    "# take one draw\n",
    "x = np.random.multivariate_normal(μ_IQ2d, Σ_IQ2d)\n",
    "y1 = x[:n]\n",
    "y2 = x[n:2*n]\n",
    "θ = x[2*n]\n",
    "η = x[2*n+1]\n",
    "\n",
    "# the true values\n",
    "θ, η"
   ]
  },
  {
   "cell_type": "code",
   "execution_count": 42,
   "id": "0d798ebf",
   "metadata": {},
   "outputs": [
    {
     "data": {
      "text/plain": [
       "(array([ 94.29880282, 106.56055143]),\n",
       " array([[33.33333333,  0.        ],\n",
       "        [ 0.        , 33.33333333]]))"
      ]
     },
     "execution_count": 42,
     "metadata": {},
     "output_type": "execute_result"
    }
   ],
   "source": [
    "multi_normal_IQ2d = MultivariateNormal(μ_IQ2d, Σ_IQ2d)\n",
    "\n",
    "k = 2*n # the length of data vector\n",
    "multi_normal_IQ2d.partition(k)\n",
    "\n",
    "multi_normal_IQ2d.cond_dist(1, [*y1, *y2])"
   ]
  },
  {
   "cell_type": "code",
   "execution_count": 43,
   "id": "8a900bbb",
   "metadata": {},
   "outputs": [],
   "source": [
    "def cond_dist_IQ2d(μ, Σ, data):\n",
    "\n",
    "    n = len(μ)\n",
    "\n",
    "    multi_normal = MultivariateNormal(μ, Σ)\n",
    "    multi_normal.partition(n-1)\n",
    "    μ_hat, Σ_hat = multi_normal.cond_dist(1, data)\n",
    "\n",
    "    return μ_hat, Σ_hat"
   ]
  },
  {
   "cell_type": "code",
   "execution_count": 44,
   "id": "27e5f1bb",
   "metadata": {},
   "outputs": [
    {
     "name": "stdout",
     "output_type": "stream",
     "text": [
      "The mean and variance of θ conditional on y1, y2, y3, y4  are 94.30 and 33.33 respectively\n",
      "The mean and variance of θ conditional on y1, y2          are 94.30 and 33.33 respectively\n",
      "The mean and variance of θ conditional on y3, y4          are 100.00 and 100.00 respectively\n",
      "The mean and variance of η conditional on y1, y2, y3, y4  are 106.56 and 33.33 respectively\n",
      "The mean and variance of η conditional on y1, y2          are 100.00 and 100.00 respectively\n",
      "The mean and variance of η conditional on y3, y4          are 106.56 and 33.33 respectively\n"
     ]
    }
   ],
   "source": [
    "for indices, IQ, conditions in [([*range(2*n), 2*n], 'θ', 'y1, y2, y3, y4'),\n",
    "                                ([*range(n), 2*n], 'θ', 'y1, y2'),\n",
    "                                ([*range(n, 2*n), 2*n], 'θ', 'y3, y4'),\n",
    "                                ([*range(2*n), 2*n+1], 'η', 'y1, y2, y3, y4'),\n",
    "                                ([*range(n), 2*n+1], 'η', 'y1, y2'),\n",
    "                                ([*range(n, 2*n), 2*n+1], 'η', 'y3, y4')]:\n",
    "\n",
    "    μ_hat, Σ_hat = cond_dist_IQ2d(μ_IQ2d[indices], Σ_IQ2d[indices][:, indices], x[indices[:-1]])\n",
    "    print(f'The mean and variance of {IQ} conditional on {conditions: <15} are ' +\n",
    "          f'{μ_hat[0]:1.2f} and {Σ_hat[0, 0]:1.2f} respectively')"
   ]
  },
  {
   "cell_type": "code",
   "execution_count": 45,
   "id": "ed516c83",
   "metadata": {},
   "outputs": [],
   "source": [
    "# as an example, consider the case where T = 3\n",
    "T = 3"
   ]
  },
  {
   "cell_type": "code",
   "execution_count": 46,
   "id": "31378693",
   "metadata": {},
   "outputs": [],
   "source": [
    "# variance of the initial distribution x_0\n",
    "σ0 = 1.\n",
    "\n",
    "# parameters of the equation system\n",
    "a = .9\n",
    "b = 1.\n",
    "c = 1.0\n",
    "d = .05"
   ]
  },
  {
   "cell_type": "code",
   "execution_count": 47,
   "id": "af0200f6",
   "metadata": {},
   "outputs": [],
   "source": [
    "# construct the covariance matrix of X\n",
    "Σx = np.empty((T+1, T+1))\n",
    "\n",
    "Σx[0, 0] = σ0 ** 2\n",
    "for i in range(T):\n",
    "    Σx[i, i+1:] = Σx[i, i] * a ** np.arange(1, T+1-i)\n",
    "    Σx[i+1:, i] = Σx[i, i+1:]\n",
    "\n",
    "    Σx[i+1, i+1] = a ** 2 * Σx[i, i] + b ** 2"
   ]
  },
  {
   "cell_type": "code",
   "execution_count": 48,
   "id": "ac7e5958",
   "metadata": {},
   "outputs": [
    {
     "data": {
      "text/plain": [
       "array([[1.      , 0.9     , 0.81    , 0.729   ],\n",
       "       [0.9     , 1.81    , 1.629   , 1.4661  ],\n",
       "       [0.81    , 1.629   , 2.4661  , 2.21949 ],\n",
       "       [0.729   , 1.4661  , 2.21949 , 2.997541]])"
      ]
     },
     "execution_count": 48,
     "metadata": {},
     "output_type": "execute_result"
    }
   ],
   "source": [
    "Σx"
   ]
  },
  {
   "cell_type": "code",
   "execution_count": 49,
   "id": "c2e1ec23",
   "metadata": {},
   "outputs": [],
   "source": [
    "# construct the covariance matrix of Y\n",
    "C = np.eye(T+1) * c\n",
    "D = np.eye(T+1) * d\n",
    "\n",
    "Σy = C @ Σx @ C.T + D @ D.T"
   ]
  },
  {
   "cell_type": "code",
   "execution_count": 50,
   "id": "e410b6e7",
   "metadata": {},
   "outputs": [],
   "source": [
    "# construct the covariance matrix of Z\n",
    "Σz = np.empty((2*(T+1), 2*(T+1)))\n",
    "\n",
    "Σz[:T+1, :T+1] = Σx\n",
    "Σz[:T+1, T+1:] = Σx @ C.T\n",
    "Σz[T+1:, :T+1] = C @ Σx\n",
    "Σz[T+1:, T+1:] = Σy"
   ]
  },
  {
   "cell_type": "code",
   "execution_count": 51,
   "id": "38ed042c",
   "metadata": {},
   "outputs": [
    {
     "data": {
      "text/plain": [
       "array([[1.      , 0.9     , 0.81    , 0.729   , 1.      , 0.9     ,\n",
       "        0.81    , 0.729   ],\n",
       "       [0.9     , 1.81    , 1.629   , 1.4661  , 0.9     , 1.81    ,\n",
       "        1.629   , 1.4661  ],\n",
       "       [0.81    , 1.629   , 2.4661  , 2.21949 , 0.81    , 1.629   ,\n",
       "        2.4661  , 2.21949 ],\n",
       "       [0.729   , 1.4661  , 2.21949 , 2.997541, 0.729   , 1.4661  ,\n",
       "        2.21949 , 2.997541],\n",
       "       [1.      , 0.9     , 0.81    , 0.729   , 1.0025  , 0.9     ,\n",
       "        0.81    , 0.729   ],\n",
       "       [0.9     , 1.81    , 1.629   , 1.4661  , 0.9     , 1.8125  ,\n",
       "        1.629   , 1.4661  ],\n",
       "       [0.81    , 1.629   , 2.4661  , 2.21949 , 0.81    , 1.629   ,\n",
       "        2.4686  , 2.21949 ],\n",
       "       [0.729   , 1.4661  , 2.21949 , 2.997541, 0.729   , 1.4661  ,\n",
       "        2.21949 , 3.000041]])"
      ]
     },
     "execution_count": 51,
     "metadata": {},
     "output_type": "execute_result"
    }
   ],
   "source": [
    "Σz"
   ]
  },
  {
   "cell_type": "code",
   "execution_count": 52,
   "id": "17165bd9",
   "metadata": {},
   "outputs": [],
   "source": [
    "# construct the mean vector of Z\n",
    "μz = np.zeros(2*(T+1))"
   ]
  },
  {
   "cell_type": "code",
   "execution_count": 53,
   "id": "6ccddd3e",
   "metadata": {},
   "outputs": [],
   "source": [
    "z = np.random.multivariate_normal(μz, Σz)\n",
    "\n",
    "x = z[:T+1]\n",
    "y = z[T+1:]"
   ]
  },
  {
   "cell_type": "code",
   "execution_count": 54,
   "id": "d7a30aff",
   "metadata": {},
   "outputs": [],
   "source": [
    "# construct a MultivariateNormal instance\n",
    "multi_normal_ex1 = MultivariateNormal(μz, Σz)\n",
    "x = z[:T+1]\n",
    "y = z[T+1:]"
   ]
  },
  {
   "cell_type": "code",
   "execution_count": 55,
   "id": "6c177447",
   "metadata": {},
   "outputs": [],
   "source": [
    "# partition Z into X and Y\n",
    "multi_normal_ex1.partition(T+1)"
   ]
  },
  {
   "cell_type": "code",
   "execution_count": 56,
   "id": "322d360d",
   "metadata": {},
   "outputs": [
    {
     "name": "stdout",
     "output_type": "stream",
     "text": [
      "X =  [-0.47765964 -0.17908976 -0.42019049 -1.71836353]\n",
      "Y =  [-0.48569017 -0.24493539 -0.35428628 -1.65862947]\n",
      " E [ X | Y] = \n"
     ]
    },
    {
     "data": {
      "text/plain": [
       "(array([-0.48405269, -0.24571578, -0.35694836, -1.65529437]),\n",
       " array([[2.48875094e-03, 5.57449314e-06, 1.24861718e-08, 2.80231394e-11],\n",
       "        [5.57449314e-06, 2.48876343e-03, 5.57452116e-06, 1.25113937e-08],\n",
       "        [1.24861718e-08, 5.57452116e-06, 2.48876346e-03, 5.58575339e-06],\n",
       "        [2.80232504e-11, 1.25113935e-08, 5.58575339e-06, 2.49377812e-03]]))"
      ]
     },
     "execution_count": 56,
     "metadata": {},
     "output_type": "execute_result"
    }
   ],
   "source": [
    "# compute the conditional mean and covariance matrix of X given Y=y\n",
    "\n",
    "print(\"X = \", x)\n",
    "print(\"Y = \", y)\n",
    "print(\" E [ X | Y] = \", )\n",
    "\n",
    "multi_normal_ex1.cond_dist(0, y)"
   ]
  },
  {
   "cell_type": "code",
   "execution_count": 57,
   "id": "572e10d3",
   "metadata": {},
   "outputs": [],
   "source": [
    "t = 3"
   ]
  },
  {
   "cell_type": "code",
   "execution_count": 58,
   "id": "1d6ad405",
   "metadata": {},
   "outputs": [],
   "source": [
    "# mean of the subvector\n",
    "sub_μz = np.zeros(t+1)\n",
    "\n",
    "# covariance matrix of the subvector\n",
    "sub_Σz = np.empty((t+1, t+1))\n",
    "\n",
    "sub_Σz[0, 0] = Σz[t, t] # x_t\n",
    "sub_Σz[0, 1:] = Σz[t, T+1:T+t+1]\n",
    "sub_Σz[1:, 0] = Σz[T+1:T+t+1, t]\n",
    "sub_Σz[1:, 1:] = Σz[T+1:T+t+1, T+1:T+t+1]"
   ]
  },
  {
   "cell_type": "code",
   "execution_count": 59,
   "id": "b2373810",
   "metadata": {},
   "outputs": [
    {
     "data": {
      "text/plain": [
       "array([[2.997541, 0.729   , 1.4661  , 2.21949 ],\n",
       "       [0.729   , 1.0025  , 0.9     , 0.81    ],\n",
       "       [1.4661  , 0.9     , 1.8125  , 1.629   ],\n",
       "       [2.21949 , 0.81    , 1.629   , 2.4686  ]])"
      ]
     },
     "execution_count": 59,
     "metadata": {},
     "output_type": "execute_result"
    }
   ],
   "source": [
    "sub_Σz"
   ]
  },
  {
   "cell_type": "code",
   "execution_count": 60,
   "id": "22f86794",
   "metadata": {},
   "outputs": [],
   "source": [
    "multi_normal_ex2 = MultivariateNormal(sub_μz, sub_Σz)\n",
    "multi_normal_ex2.partition(1)"
   ]
  },
  {
   "cell_type": "code",
   "execution_count": 61,
   "id": "645c0901",
   "metadata": {},
   "outputs": [
    {
     "data": {
      "text/plain": [
       "(array([-0.31855882]), array([[1.00201996]]))"
      ]
     },
     "execution_count": 61,
     "metadata": {},
     "output_type": "execute_result"
    }
   ],
   "source": [
    "sub_y = y[:t]\n",
    "\n",
    "multi_normal_ex2.cond_dist(0, sub_y)"
   ]
  },
  {
   "cell_type": "code",
   "execution_count": 62,
   "id": "eed2e12c",
   "metadata": {},
   "outputs": [],
   "source": [
    "t = 3\n",
    "j = 2"
   ]
  },
  {
   "cell_type": "code",
   "execution_count": 63,
   "id": "21ce1c4f",
   "metadata": {},
   "outputs": [],
   "source": [
    "sub_μz = np.zeros(t-j+2)\n",
    "sub_Σz = np.empty((t-j+2, t-j+2))\n",
    "\n",
    "sub_Σz[0, 0] = Σz[T+t+1, T+t+1]\n",
    "sub_Σz[0, 1:] = Σz[T+t+1, T+1:T+t-j+2]\n",
    "sub_Σz[1:, 0] = Σz[T+1:T+t-j+2, T+t+1]\n",
    "sub_Σz[1:, 1:] = Σz[T+1:T+t-j+2, T+1:T+t-j+2]"
   ]
  },
  {
   "cell_type": "code",
   "execution_count": 64,
   "id": "73582320",
   "metadata": {},
   "outputs": [
    {
     "data": {
      "text/plain": [
       "array([[3.000041, 0.729   , 1.4661  ],\n",
       "       [0.729   , 1.0025  , 0.9     ],\n",
       "       [1.4661  , 0.9     , 1.8125  ]])"
      ]
     },
     "execution_count": 64,
     "metadata": {},
     "output_type": "execute_result"
    }
   ],
   "source": [
    "sub_Σz"
   ]
  },
  {
   "cell_type": "code",
   "execution_count": 65,
   "id": "1e5a4369",
   "metadata": {},
   "outputs": [],
   "source": [
    "multi_normal_ex3 = MultivariateNormal(sub_μz, sub_Σz)\n",
    "multi_normal_ex3.partition(1)"
   ]
  },
  {
   "cell_type": "code",
   "execution_count": 66,
   "id": "de000b27",
   "metadata": {},
   "outputs": [
    {
     "data": {
      "text/plain": [
       "(array([-0.19878289]), array([[1.81413617]]))"
      ]
     },
     "execution_count": 66,
     "metadata": {},
     "output_type": "execute_result"
    }
   ],
   "source": [
    "sub_y = y[:t-j+1]\n",
    "\n",
    "multi_normal_ex3.cond_dist(0, sub_y)"
   ]
  },
  {
   "cell_type": "code",
   "execution_count": 67,
   "id": "979a3aad",
   "metadata": {},
   "outputs": [
    {
     "data": {
      "text/plain": [
       "array([[1.00124922, 0.        , 0.        , 0.        ],\n",
       "       [0.8988771 , 1.00225743, 0.        , 0.        ],\n",
       "       [0.80898939, 0.89978675, 1.00225743, 0.        ],\n",
       "       [0.72809046, 0.80980808, 0.89978676, 1.00225743]])"
      ]
     },
     "execution_count": 67,
     "metadata": {},
     "output_type": "execute_result"
    }
   ],
   "source": [
    "H = np.linalg.cholesky(Σy)\n",
    "\n",
    "H"
   ]
  },
  {
   "cell_type": "code",
   "execution_count": 68,
   "id": "fb9e8c23",
   "metadata": {},
   "outputs": [
    {
     "data": {
      "text/plain": [
       "array([-0.48508419,  0.19066527, -0.1331159 , -1.33705235])"
      ]
     },
     "execution_count": 68,
     "metadata": {},
     "output_type": "execute_result"
    }
   ],
   "source": [
    "ε = np.linalg.inv(H) @ y\n",
    "\n",
    "ε"
   ]
  },
  {
   "cell_type": "code",
   "execution_count": 69,
   "id": "100c2709",
   "metadata": {},
   "outputs": [
    {
     "data": {
      "text/plain": [
       "array([-0.48569017, -0.24493539, -0.35428628, -1.65862947])"
      ]
     },
     "execution_count": 69,
     "metadata": {},
     "output_type": "execute_result"
    }
   ],
   "source": [
    "y"
   ]
  },
  {
   "cell_type": "code",
   "execution_count": 70,
   "id": "a3ae0898",
   "metadata": {},
   "outputs": [],
   "source": [
    "# set parameters\n",
    "T = 80\n",
    "T = 160\n",
    "# coefficients of the second order difference equation\n",
    "𝛼0 = 10\n",
    "𝛼1 = 1.53\n",
    "𝛼2 = -.9\n",
    "\n",
    "# variance of u\n",
    "σu = 1.\n",
    "σu = 10.\n",
    "\n",
    "# distribution of y_{-1} and y_{0}\n",
    "μy_tilde = np.array([1., 0.5])\n",
    "Σy_tilde = np.array([[2., 1.], [1., 0.5]])"
   ]
  },
  {
   "cell_type": "code",
   "execution_count": 71,
   "id": "8d6ef811",
   "metadata": {},
   "outputs": [],
   "source": [
    "# construct A and A^{\\prime}\n",
    "A = np.zeros((T, T))\n",
    "\n",
    "for i in range(T):\n",
    "    A[i, i] = 1\n",
    "\n",
    "    if i-1 >= 0:\n",
    "        A[i, i-1] = -𝛼1\n",
    "\n",
    "    if i-2 >= 0:\n",
    "        A[i, i-2] = -𝛼2\n",
    "\n",
    "A_inv = np.linalg.inv(A)"
   ]
  },
  {
   "cell_type": "code",
   "execution_count": 72,
   "id": "45319e3b",
   "metadata": {},
   "outputs": [],
   "source": [
    "# compute the mean vectors of b and y\n",
    "μb = np.full(T, 𝛼0)\n",
    "μb[0] += 𝛼1 * μy_tilde[1] + 𝛼2 * μy_tilde[0]\n",
    "μb[1] += 𝛼2 * μy_tilde[1]\n",
    "\n",
    "μy = A_inv @ μb"
   ]
  },
  {
   "cell_type": "code",
   "execution_count": 73,
   "id": "4e4507fd",
   "metadata": {},
   "outputs": [],
   "source": [
    "# compute the covariance matrices of b and y\n",
    "Σu = np.eye(T) * σu ** 2\n",
    "\n",
    "Σb = np.zeros((T, T))\n",
    "\n",
    "C = np.array([[𝛼2, 𝛼1], [0, 𝛼2]])\n",
    "Σb[:2, :2] = C @ Σy_tilde @ C.T\n",
    "\n",
    "Σy = A_inv @ (Σb + Σu) @ A_inv.T"
   ]
  },
  {
   "cell_type": "code",
   "execution_count": 74,
   "id": "b8227a77",
   "metadata": {},
   "outputs": [],
   "source": [
    "β = .96"
   ]
  },
  {
   "cell_type": "code",
   "execution_count": 75,
   "id": "ea139946",
   "metadata": {},
   "outputs": [],
   "source": [
    "# construct B\n",
    "B = np.zeros((T, T))\n",
    "\n",
    "for i in range(T):\n",
    "    B[i, i:] = β ** np.arange(0, T-i)"
   ]
  },
  {
   "cell_type": "code",
   "execution_count": 76,
   "id": "31709c2d",
   "metadata": {},
   "outputs": [],
   "source": [
    "D = np.vstack([np.eye(T), B])"
   ]
  },
  {
   "cell_type": "code",
   "execution_count": 77,
   "id": "e614cfc4",
   "metadata": {},
   "outputs": [],
   "source": [
    "μz = D @ μy\n",
    "Σz = D @ Σy @ D.T"
   ]
  },
  {
   "cell_type": "code",
   "execution_count": 78,
   "id": "ede6ddb7",
   "metadata": {},
   "outputs": [],
   "source": [
    "z = np.random.multivariate_normal(μz, Σz)\n",
    "y, p = z[:T], z[T:]"
   ]
  },
  {
   "cell_type": "code",
   "execution_count": 79,
   "id": "af9a71c9",
   "metadata": {},
   "outputs": [],
   "source": [
    "cond_Ep = np.empty(T-1)\n",
    "\n",
    "sub_μ = np.empty(3)\n",
    "sub_Σ = np.empty((3, 3))\n",
    "for t in range(2, T+1):\n",
    "    sub_μ[:] = μz[[t-2, t-1, T-1+t]]\n",
    "    sub_Σ[:, :] = Σz[[t-2, t-1, T-1+t], :][:, [t-2, t-1, T-1+t]]\n",
    "\n",
    "    multi_normal = MultivariateNormal(sub_μ, sub_Σ)\n",
    "    multi_normal.partition(2)\n",
    "\n",
    "    cond_Ep[t-2] = multi_normal.cond_dist(1, y[t-2:t])[0][0]"
   ]
  },
  {
   "cell_type": "code",
   "execution_count": 80,
   "id": "18b28e6b",
   "metadata": {},
   "outputs": [
    {
     "data": {
      "image/png": "[encoded data removed]",
      "text/plain": [
       "<Figure size 1100x500 with 1 Axes>"
      ]
     },
     "metadata": {},
     "output_type": "display_data"
    }
   ],
   "source": [
    "plt.plot(range(1, T), y[1:], label='$y_{t}$')\n",
    "plt.plot(range(1, T), y[:-1], label='$y_{t-1}$')\n",
    "plt.plot(range(1, T), p[1:], label='$p_{t}$')\n",
    "plt.plot(range(1, T), cond_Ep, label='$Ep_{t}|y_{t}, y_{t-1}$')\n",
    "\n",
    "plt.xlabel('t')\n",
    "plt.legend(loc=1)\n",
    "plt.show()"
   ]
  },
  {
   "cell_type": "code",
   "execution_count": 81,
   "id": "4ff1ccf4",
   "metadata": {},
   "outputs": [],
   "source": [
    "G = np.array([[1., 3.]])\n",
    "R = np.array([[1.]])\n",
    "\n",
    "x0_hat = np.array([0., 1.])\n",
    "Σ0 = np.array([[1., .5], [.3, 2.]])\n",
    "\n",
    "μ = np.hstack([x0_hat, G @ x0_hat])\n",
    "Σ = np.block([[Σ0, Σ0 @ G.T], [G @ Σ0, G @ Σ0 @ G.T + R]])"
   ]
  },
  {
   "cell_type": "code",
   "execution_count": 82,
   "id": "4f06fd47",
   "metadata": {},
   "outputs": [],
   "source": [
    "# construction of the multivariate normal instance\n",
    "multi_normal = MultivariateNormal(μ, Σ)"
   ]
  },
  {
   "cell_type": "code",
   "execution_count": 83,
   "id": "f668eed6",
   "metadata": {},
   "outputs": [],
   "source": [
    "multi_normal.partition(2)"
   ]
  },
  {
   "cell_type": "code",
   "execution_count": 84,
   "id": "c1ba3b9c",
   "metadata": {},
   "outputs": [
    {
     "data": {
      "text/plain": [
       "(array([-0.078125,  0.803125]),\n",
       " array([[ 0.72098214, -0.203125  ],\n",
       "        [-0.403125  ,  0.228125  ]]))"
      ]
     },
     "execution_count": 84,
     "metadata": {},
     "output_type": "execute_result"
    }
   ],
   "source": [
    "# the observation of y\n",
    "y0 = 2.3\n",
    "\n",
    "# conditional distribution of x0\n",
    "μ1_hat, Σ11 = multi_normal.cond_dist(0, y0)\n",
    "μ1_hat, Σ11"
   ]
  },
  {
   "cell_type": "code",
   "execution_count": 85,
   "id": "aaf86026",
   "metadata": {},
   "outputs": [
    {
     "data": {
      "text/plain": [
       "(array([0.1215625, 0.24875  ]),\n",
       " array([[4.12874554, 1.95523214],\n",
       "        [1.92123214, 1.04592857]]))"
      ]
     },
     "execution_count": 85,
     "metadata": {},
     "output_type": "execute_result"
    }
   ],
   "source": [
    "A = np.array([[0.5, 0.2], [-0.1, 0.3]])\n",
    "C = np.array([[2.], [1.]])\n",
    "\n",
    "# conditional distribution of x1\n",
    "x1_cond = A @ μ1_hat\n",
    "Σ1_cond = C @ C.T + A @ Σ11 @ A.T\n",
    "x1_cond, Σ1_cond"
   ]
  },
  {
   "cell_type": "code",
   "execution_count": 86,
   "id": "99404029",
   "metadata": {},
   "outputs": [],
   "source": [
    "def iterate(x0_hat, Σ0, A, C, G, R, y_seq):\n",
    "\n",
    "    p, n = G.shape\n",
    "\n",
    "    T = len(y_seq)\n",
    "    x_hat_seq = np.empty((T+1, n))\n",
    "    Σ_hat_seq = np.empty((T+1, n, n))\n",
    "\n",
    "    x_hat_seq[0] = x0_hat\n",
    "    Σ_hat_seq[0] = Σ0\n",
    "\n",
    "    for t in range(T):\n",
    "        xt_hat = x_hat_seq[t]\n",
    "        Σt = Σ_hat_seq[t]\n",
    "        μ = np.hstack([xt_hat, G @ xt_hat])\n",
    "        Σ = np.block([[Σt, Σt @ G.T], [G @ Σt, G @ Σt @ G.T + R]])\n",
    "\n",
    "        # filtering\n",
    "        multi_normal = MultivariateNormal(μ, Σ)\n",
    "        multi_normal.partition(n)\n",
    "        x_tilde, Σ_tilde = multi_normal.cond_dist(0, y_seq[t])\n",
    "\n",
    "        # forecasting\n",
    "        x_hat_seq[t+1] = A @ x_tilde\n",
    "        Σ_hat_seq[t+1] = C @ C.T + A @ Σ_tilde @ A.T\n",
    "\n",
    "    return x_hat_seq, Σ_hat_seq"
   ]
  },
  {
   "cell_type": "code",
   "execution_count": 87,
   "id": "4087bc92",
   "metadata": {},
   "outputs": [
    {
     "data": {
      "text/plain": [
       "(array([[0.        , 1.        ],\n",
       "        [0.1215625 , 0.24875   ],\n",
       "        [0.18680212, 0.06904689],\n",
       "        [0.75576875, 0.05558463]]),\n",
       " array([[[1.        , 0.5       ],\n",
       "         [0.3       , 2.        ]],\n",
       " \n",
       "        [[4.12874554, 1.95523214],\n",
       "         [1.92123214, 1.04592857]],\n",
       " \n",
       "        [[4.08198663, 1.99218488],\n",
       "         [1.98640488, 1.00886423]],\n",
       " \n",
       "        [[4.06457628, 2.00041999],\n",
       "         [1.99943739, 1.00275526]]]))"
      ]
     },
     "execution_count": 87,
     "metadata": {},
     "output_type": "execute_result"
    }
   ],
   "source": [
    "iterate(x0_hat, Σ0, A, C, G, R, [2.3, 1.2, 3.2])"
   ]
  },
  {
   "cell_type": "code",
   "execution_count": 88,
   "id": "e37f898e",
   "metadata": {},
   "outputs": [],
   "source": [
    "N = 10\n",
    "k = 2"
   ]
  },
  {
   "cell_type": "code",
   "execution_count": 89,
   "id": "2548165f",
   "metadata": {},
   "outputs": [],
   "source": [
    "Λ = np.zeros((N, k))\n",
    "Λ[:N//2, 0] = 1\n",
    "Λ[N//2:, 1] = 1\n",
    "\n",
    "σu = .5\n",
    "D = np.eye(N) * σu ** 2"
   ]
  },
  {
   "cell_type": "code",
   "execution_count": 90,
   "id": "85158c30",
   "metadata": {},
   "outputs": [],
   "source": [
    "# compute Σy\n",
    "Σy = Λ @ Λ.T + D"
   ]
  },
  {
   "cell_type": "code",
   "execution_count": 91,
   "id": "e658b8ef",
   "metadata": {},
   "outputs": [],
   "source": [
    "μz = np.zeros(k+N)\n",
    "\n",
    "Σz = np.empty((k+N, k+N))\n",
    "\n",
    "Σz[:k, :k] = np.eye(k)\n",
    "Σz[:k, k:] = Λ.T\n",
    "Σz[k:, :k] = Λ\n",
    "Σz[k:, k:] = Σy"
   ]
  },
  {
   "cell_type": "code",
   "execution_count": 92,
   "id": "04c68c35",
   "metadata": {},
   "outputs": [],
   "source": [
    "z = np.random.multivariate_normal(μz, Σz)\n",
    "\n",
    "f = z[:k]\n",
    "y = z[k:]"
   ]
  },
  {
   "cell_type": "code",
   "execution_count": 93,
   "id": "32fe0b0e",
   "metadata": {},
   "outputs": [],
   "source": [
    "multi_normal_factor = MultivariateNormal(μz, Σz)\n",
    "multi_normal_factor.partition(k)"
   ]
  },
  {
   "cell_type": "code",
   "execution_count": 94,
   "id": "b472f59e",
   "metadata": {},
   "outputs": [
    {
     "data": {
      "text/plain": [
       "(array([-0.62375778, -0.30432477]),\n",
       " array([[0.04761905, 0.        ],\n",
       "        [0.        , 0.04761905]]))"
      ]
     },
     "execution_count": 94,
     "metadata": {},
     "output_type": "execute_result"
    }
   ],
   "source": [
    "multi_normal_factor.cond_dist(0, y)"
   ]
  },
  {
   "cell_type": "code",
   "execution_count": 95,
   "id": "8671c5a8",
   "metadata": {},
   "outputs": [
    {
     "data": {
      "text/plain": [
       "array([-0.62375778, -0.30432477])"
      ]
     },
     "execution_count": 95,
     "metadata": {},
     "output_type": "execute_result"
    }
   ],
   "source": [
    "B = Λ.T @ np.linalg.inv(Σy)\n",
    "\n",
    "B @ y"
   ]
  },
  {
   "cell_type": "code",
   "execution_count": 96,
   "id": "ade0f929",
   "metadata": {},
   "outputs": [
    {
     "data": {
      "text/plain": [
       "(array([ 0.19693034,  0.19693034,  0.19693034,  0.19693034,  0.19693034,\n",
       "        -0.24543556, -0.24543556, -0.24543556, -0.24543556, -0.24543556]),\n",
       " array([[0.25, 0.  , 0.  , 0.  , 0.  , 0.  , 0.  , 0.  , 0.  , 0.  ],\n",
       "        [0.  , 0.25, 0.  , 0.  , 0.  , 0.  , 0.  , 0.  , 0.  , 0.  ],\n",
       "        [0.  , 0.  , 0.25, 0.  , 0.  , 0.  , 0.  , 0.  , 0.  , 0.  ],\n",
       "        [0.  , 0.  , 0.  , 0.25, 0.  , 0.  , 0.  , 0.  , 0.  , 0.  ],\n",
       "        [0.  , 0.  , 0.  , 0.  , 0.25, 0.  , 0.  , 0.  , 0.  , 0.  ],\n",
       "        [0.  , 0.  , 0.  , 0.  , 0.  , 0.25, 0.  , 0.  , 0.  , 0.  ],\n",
       "        [0.  , 0.  , 0.  , 0.  , 0.  , 0.  , 0.25, 0.  , 0.  , 0.  ],\n",
       "        [0.  , 0.  , 0.  , 0.  , 0.  , 0.  , 0.  , 0.25, 0.  , 0.  ],\n",
       "        [0.  , 0.  , 0.  , 0.  , 0.  , 0.  , 0.  , 0.  , 0.25, 0.  ],\n",
       "        [0.  , 0.  , 0.  , 0.  , 0.  , 0.  , 0.  , 0.  , 0.  , 0.25]]))"
      ]
     },
     "execution_count": 96,
     "metadata": {},
     "output_type": "execute_result"
    }
   ],
   "source": [
    "multi_normal_factor.cond_dist(1, f)"
   ]
  },
  {
   "cell_type": "code",
   "execution_count": 97,
   "id": "388d7be1",
   "metadata": {},
   "outputs": [
    {
     "data": {
      "text/plain": [
       "array([ 0.19693034,  0.19693034,  0.19693034,  0.19693034,  0.19693034,\n",
       "       -0.24543556, -0.24543556, -0.24543556, -0.24543556, -0.24543556])"
      ]
     },
     "execution_count": 97,
     "metadata": {},
     "output_type": "execute_result"
    }
   ],
   "source": [
    "Λ @ f"
   ]
  },
  {
   "cell_type": "code",
   "execution_count": 98,
   "id": "43dd9003",
   "metadata": {},
   "outputs": [
    {
     "name": "stdout",
     "output_type": "stream",
     "text": [
      "𝜆_tilde = [5.25 5.25 0.25 0.25 0.25 0.25 0.25 0.25 0.25 0.25]\n"
     ]
    }
   ],
   "source": [
    "𝜆_tilde, P = np.linalg.eigh(Σy)\n",
    "\n",
    "# arrange the eigenvectors by eigenvalues\n",
    "ind = sorted(range(N), key=lambda x: 𝜆_tilde[x], reverse=True)\n",
    "\n",
    "P = P[:, ind]\n",
    "𝜆_tilde = 𝜆_tilde[ind]\n",
    "Λ_tilde = np.diag(𝜆_tilde)\n",
    "\n",
    "print('𝜆_tilde =', 𝜆_tilde)"
   ]
  },
  {
   "cell_type": "code",
   "execution_count": 99,
   "id": "4a2bd4fb",
   "metadata": {},
   "outputs": [
    {
     "data": {
      "text/plain": [
       "4.440892098500626e-16"
      ]
     },
     "execution_count": 99,
     "metadata": {},
     "output_type": "execute_result"
    }
   ],
   "source": [
    "# verify the orthogonality of eigenvectors\n",
    "np.abs(P @ P.T - np.eye(N)).max()"
   ]
  },
  {
   "cell_type": "code",
   "execution_count": 100,
   "id": "57e800ab",
   "metadata": {},
   "outputs": [
    {
     "data": {
      "text/plain": [
       "array([[1.25, 1.  , 1.  , 1.  , 1.  , 0.  , 0.  , 0.  , 0.  , 0.  ],\n",
       "       [1.  , 1.25, 1.  , 1.  , 1.  , 0.  , 0.  , 0.  , 0.  , 0.  ],\n",
       "       [1.  , 1.  , 1.25, 1.  , 1.  , 0.  , 0.  , 0.  , 0.  , 0.  ],\n",
       "       [1.  , 1.  , 1.  , 1.25, 1.  , 0.  , 0.  , 0.  , 0.  , 0.  ],\n",
       "       [1.  , 1.  , 1.  , 1.  , 1.25, 0.  , 0.  , 0.  , 0.  , 0.  ],\n",
       "       [0.  , 0.  , 0.  , 0.  , 0.  , 1.25, 1.  , 1.  , 1.  , 1.  ],\n",
       "       [0.  , 0.  , 0.  , 0.  , 0.  , 1.  , 1.25, 1.  , 1.  , 1.  ],\n",
       "       [0.  , 0.  , 0.  , 0.  , 0.  , 1.  , 1.  , 1.25, 1.  , 1.  ],\n",
       "       [0.  , 0.  , 0.  , 0.  , 0.  , 1.  , 1.  , 1.  , 1.25, 1.  ],\n",
       "       [0.  , 0.  , 0.  , 0.  , 0.  , 1.  , 1.  , 1.  , 1.  , 1.25]])"
      ]
     },
     "execution_count": 100,
     "metadata": {},
     "output_type": "execute_result"
    }
   ],
   "source": [
    "# verify the eigenvalue decomposition is correct\n",
    "P @ Λ_tilde @ P.T"
   ]
  },
  {
   "cell_type": "code",
   "execution_count": 101,
   "id": "4f844973",
   "metadata": {},
   "outputs": [
    {
     "name": "stdout",
     "output_type": "stream",
     "text": [
      "ε =  [-0.71451541 -1.46450304  0.54565796  1.09330071  0.19222449 -0.54512087\n",
      "  0.0437469   0.74632421 -0.4369276  -0.79915891]\n"
     ]
    }
   ],
   "source": [
    "ε = P.T @ y\n",
    "\n",
    "print(\"ε = \", ε)"
   ]
  },
  {
   "cell_type": "code",
   "execution_count": 102,
   "id": "803c45ca",
   "metadata": {},
   "outputs": [
    {
     "name": "stdout",
     "output_type": "stream",
     "text": [
      "f =  [ 0.19693034 -0.24543556]\n"
     ]
    }
   ],
   "source": [
    "# print the values of the two factors\n",
    "\n",
    "print('f = ', f)"
   ]
  },
  {
   "cell_type": "code",
   "execution_count": 103,
   "id": "603a4d50",
   "metadata": {},
   "outputs": [
    {
     "data": {
      "image/png": "[encoded data removed]",
      "text/plain": [
       "<Figure size 1100x500 with 1 Axes>"
      ]
     },
     "metadata": {},
     "output_type": "display_data"
    }
   ],
   "source": [
    "plt.scatter(range(N), y, label='y')\n",
    "plt.scatter(range(N), ε, label='$\\epsilon$')\n",
    "plt.hlines(f[0], 0, N//2-1, ls='--', label='$f_{1}$')\n",
    "plt.hlines(f[1], N//2, N-1, ls='-.', label='$f_{2}$')\n",
    "plt.legend()\n",
    "\n",
    "plt.show()"
   ]
  },
  {
   "cell_type": "code",
   "execution_count": 104,
   "id": "2b9a3ce4",
   "metadata": {},
   "outputs": [
    {
     "data": {
      "text/plain": [
       "array([-0.71451541, -1.46450304])"
      ]
     },
     "execution_count": 104,
     "metadata": {},
     "output_type": "execute_result"
    }
   ],
   "source": [
    "ε[:2]"
   ]
  },
  {
   "cell_type": "code",
   "execution_count": 105,
   "id": "f4698de9",
   "metadata": {},
   "outputs": [
    {
     "data": {
      "text/plain": [
       "array([-0.62375778, -0.30432477])"
      ]
     },
     "execution_count": 105,
     "metadata": {},
     "output_type": "execute_result"
    }
   ],
   "source": [
    "# compare with Ef|y\n",
    "B @ y"
   ]
  },
  {
   "cell_type": "code",
   "execution_count": 106,
   "id": "64ab7662",
   "metadata": {},
   "outputs": [
    {
     "data": {
      "text/plain": [
       "0.8400000000000002"
      ]
     },
     "execution_count": 106,
     "metadata": {},
     "output_type": "execute_result"
    }
   ],
   "source": [
    "𝜆_tilde[:2].sum() / 𝜆_tilde.sum()"
   ]
  },
  {
   "cell_type": "code",
   "execution_count": 107,
   "id": "49d380bc",
   "metadata": {},
   "outputs": [],
   "source": [
    "y_hat = P[:, :2] @ ε[:2]"
   ]
  },
  {
   "cell_type": "code",
   "execution_count": 108,
   "id": "37ac3542",
   "metadata": {},
   "outputs": [
    {
     "data": {
      "image/png": "[encoded data removed]",
      "text/plain": [
       "<Figure size 1100x500 with 1 Axes>"
      ]
     },
     "metadata": {},
     "output_type": "display_data"
    }
   ],
   "source": [
    "plt.scatter(range(N), Λ @ f, label='$Ey|f$')\n",
    "plt.scatter(range(N), y_hat, label='$\\hat{y}$')\n",
    "plt.hlines(f[0], 0, N//2-1, ls='--', label='$f_{1}$')\n",
    "plt.hlines(f[1], N//2, N-1, ls='-.', label='$f_{2}$')\n",
    "\n",
    "Efy = B @ y\n",
    "plt.hlines(Efy[0], 0, N//2-1, ls='--', color='b', label='$Ef_{1}|y$')\n",
    "plt.hlines(Efy[1], N//2, N-1, ls='-.', color='b', label='$Ef_{2}|y$')\n",
    "plt.legend()\n",
    "\n",
    "plt.show()"
   ]
  },
  {
   "cell_type": "code",
   "execution_count": 109,
   "id": "dead3c45",
   "metadata": {},
   "outputs": [
    {
     "name": "stdout",
     "output_type": "stream",
     "text": [
      "Σy_hat = \n",
      " [[1.05 1.05 1.05 1.05 1.05 0.   0.   0.   0.   0.  ]\n",
      " [1.05 1.05 1.05 1.05 1.05 0.   0.   0.   0.   0.  ]\n",
      " [1.05 1.05 1.05 1.05 1.05 0.   0.   0.   0.   0.  ]\n",
      " [1.05 1.05 1.05 1.05 1.05 0.   0.   0.   0.   0.  ]\n",
      " [1.05 1.05 1.05 1.05 1.05 0.   0.   0.   0.   0.  ]\n",
      " [0.   0.   0.   0.   0.   1.05 1.05 1.05 1.05 1.05]\n",
      " [0.   0.   0.   0.   0.   1.05 1.05 1.05 1.05 1.05]\n",
      " [0.   0.   0.   0.   0.   1.05 1.05 1.05 1.05 1.05]\n",
      " [0.   0.   0.   0.   0.   1.05 1.05 1.05 1.05 1.05]\n",
      " [0.   0.   0.   0.   0.   1.05 1.05 1.05 1.05 1.05]]\n"
     ]
    }
   ],
   "source": [
    "Σεjk = (P.T @ Σy @ P)[:2, :2]\n",
    "\n",
    "Pjk = P[:, :2]\n",
    "\n",
    "Σy_hat = Pjk @ Σεjk @ Pjk.T\n",
    "print('Σy_hat = \\n', Σy_hat)"
   ]
  }
 ],
 "metadata": {
  "jupytext": {
   "text_representation": {
    "extension": ".md",
    "format_name": "myst"
   }
  },
  "kernelspec": {
   "display_name": "Python 3",
   "language": "python",
   "name": "python3"
  },
  "language_info": {
   "codemirror_mode": {
    "name": "ipython",
    "version": 3
   },
   "file_extension": ".py",
   "mimetype": "text/x-python",
   "name": "python",
   "nbconvert_exporter": "python",
   "pygments_lexer": "ipython3",
   "version": "3.10.12"
  },
  "source_map": [
   10,
   63,
   69,
   86,
   112,
   180,
   249,
   280,
   288,
   294,
   326,
   335,
   342,
   345,
   349,
   352,
   359,
   392,
   398,
   401,
   407,
   410,
   426,
   433,
   439,
   446,
   468,
   479,
   484,
   486,
   491,
   493,
   498,
   500,
   514,
   522,
   526,
   529,
   534,
   541,
   548,
   551,
   557,
   561,
   565,
   567,
   659,
   671,
   682,
   688,
   698,
   703,
   711,
   717,
   720,
   730,
   733,
   747,
   771,
   787,
   898,
   905,
   911,
   920,
   925,
   928,
   1007,
   1027,
   1031,
   1040,
   1050,
   1055,
   1062,
   1070,
   1080,
   1084,
   1095,
   1193,
   1198,
   1209,
   1221,
   1225,
   1233,
   1243,
   1247,
   1250,
   1258,
   1263,
   1277,
   1284,
   1289,
   1297,
   1310,
   1314,
   1327,
   1331,
   1336,
   1340,
   1352,
   1357,
   1367,
   1371,
   1376,
   1380,
   1397,
   1403,
   1409,
   1411,
   1507,
   1525,
   1541,
   1550,
   1560,
   1603,
   1607,
   1613,
   1639,
   1643,
   1646,
   1652,
   1657,
   1672,
   1681,
   1887,
   1898,
   1903,
   1907,
   1916,
   1924,
   1931,
   1961,
   1963,
   2030,
   2033,
   2061,
   2070,
   2073,
   2078,
   2089,
   2096,
   2099,
   2104,
   2106,
   2112,
   2116,
   2120,
   2122,
   2127,
   2129,
   2173,
   2186,
   2191,
   2196,
   2202,
   2206,
   2219,
   2227,
   2234,
   2238,
   2241,
   2246,
   2248,
   2259,
   2261,
   2271,
   2283,
   2289
  ]
 },
 "nbformat": 4,
 "nbformat_minor": 5
}