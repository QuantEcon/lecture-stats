{
 "cells": [
  {
   "cell_type": "markdown",
   "id": "3e31e45b",
   "metadata": {},
   "source": [
    "# Statistics for Computational Economics\n",
    "\n",
    "This website presents a set of lectures on statistics for computational economics.\n",
    "\n",
    "```{tableofcontents}\n",
    "```"
   ]
  }
 ],
 "metadata": {
  "jupytext": {
   "text_representation": {
    "extension": ".md",
    "format_name": "myst"
   }
  },
  "kernelspec": {
   "display_name": "Python 3",
   "language": "python",
   "name": "python3"
  },
  "source_map": [
   10
  ]
 },
 "nbformat": 4,
 "nbformat_minor": 5
}